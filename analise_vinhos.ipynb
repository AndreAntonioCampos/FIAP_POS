{
 "cells": [
  {
   "cell_type": "markdown",
   "metadata": {},
   "source": [
    "## Tech Challeng FIAP\n",
    "\n",
    "### Estudo de vinhos\n",
    "\n",
    "#### O problema\n",
    "\n",
    "Imagine agora, que você vai atuar como Expert em Data Analytics em uma empresa que exporta vinhos do Brasil para o mundo todo.\n",
    "\n",
    "Sua área é recém-criada dentro da empresa, e você será responsável pelos relatórios iniciais a serem apresentados em uma reunião de investidores e acionistas, explicando a quantidade de vinhos exportados e os fatores externos que podem vir a surgir e que interferem nas análises:\n",
    "\n",
    "1. Dados climáticos\n",
    "2. Dados demográficos\n",
    "3. Dados econômicos\n",
    "4. Dados de avaliação de vinhos\n",
    "\n",
    "O head de dados pediu para que você construísse uma tabela contendo as seguinte informações:\n",
    "\n",
    "- País de origem (Brasil)\n",
    "- País de destino\n",
    "- Quantidade em litros de vinho exportado (utilize: 1KG = 1L)\n",
    "- Valor em US$\n",
    "\n",
    "Os dados que lhe forneceram são de uma vinícola parceira."
   ]
  },
  {
   "cell_type": "code",
   "execution_count": 1,
   "metadata": {},
   "outputs": [],
   "source": [
    "import pandas as pd\n",
    "import numpy as np\n",
    "import matplotlib.pyplot as plt"
   ]
  },
  {
   "cell_type": "code",
   "execution_count": 2,
   "metadata": {},
   "outputs": [
    {
     "data": {
      "text/html": [
       "<div>\n",
       "<style scoped>\n",
       "    .dataframe tbody tr th:only-of-type {\n",
       "        vertical-align: middle;\n",
       "    }\n",
       "\n",
       "    .dataframe tbody tr th {\n",
       "        vertical-align: top;\n",
       "    }\n",
       "\n",
       "    .dataframe thead th {\n",
       "        text-align: right;\n",
       "    }\n",
       "</style>\n",
       "<table border=\"1\" class=\"dataframe\">\n",
       "  <thead>\n",
       "    <tr style=\"text-align: right;\">\n",
       "      <th></th>\n",
       "      <th>Id</th>\n",
       "      <th>País</th>\n",
       "      <th>1970</th>\n",
       "      <th>1970.1</th>\n",
       "      <th>1971</th>\n",
       "      <th>1971.1</th>\n",
       "      <th>1972</th>\n",
       "      <th>1972.1</th>\n",
       "      <th>1973</th>\n",
       "      <th>1973.1</th>\n",
       "      <th>...</th>\n",
       "      <th>2018</th>\n",
       "      <th>2018.1</th>\n",
       "      <th>2019</th>\n",
       "      <th>2019.1</th>\n",
       "      <th>2020</th>\n",
       "      <th>2020.1</th>\n",
       "      <th>2021</th>\n",
       "      <th>2021.1</th>\n",
       "      <th>2022</th>\n",
       "      <th>2022.1</th>\n",
       "    </tr>\n",
       "  </thead>\n",
       "  <tbody>\n",
       "    <tr>\n",
       "      <th>0</th>\n",
       "      <td>1</td>\n",
       "      <td>Afeganistão</td>\n",
       "      <td>0</td>\n",
       "      <td>0</td>\n",
       "      <td>0</td>\n",
       "      <td>0</td>\n",
       "      <td>0</td>\n",
       "      <td>0</td>\n",
       "      <td>0</td>\n",
       "      <td>0</td>\n",
       "      <td>...</td>\n",
       "      <td>0</td>\n",
       "      <td>0</td>\n",
       "      <td>0</td>\n",
       "      <td>0</td>\n",
       "      <td>0</td>\n",
       "      <td>0</td>\n",
       "      <td>11</td>\n",
       "      <td>46</td>\n",
       "      <td>0</td>\n",
       "      <td>0</td>\n",
       "    </tr>\n",
       "    <tr>\n",
       "      <th>1</th>\n",
       "      <td>2</td>\n",
       "      <td>África do Sul</td>\n",
       "      <td>0</td>\n",
       "      <td>0</td>\n",
       "      <td>0</td>\n",
       "      <td>0</td>\n",
       "      <td>0</td>\n",
       "      <td>0</td>\n",
       "      <td>0</td>\n",
       "      <td>0</td>\n",
       "      <td>...</td>\n",
       "      <td>0</td>\n",
       "      <td>0</td>\n",
       "      <td>26</td>\n",
       "      <td>95</td>\n",
       "      <td>4</td>\n",
       "      <td>21</td>\n",
       "      <td>0</td>\n",
       "      <td>0</td>\n",
       "      <td>0</td>\n",
       "      <td>0</td>\n",
       "    </tr>\n",
       "    <tr>\n",
       "      <th>2</th>\n",
       "      <td>3</td>\n",
       "      <td>Alemanha, República Democrática</td>\n",
       "      <td>0</td>\n",
       "      <td>0</td>\n",
       "      <td>0</td>\n",
       "      <td>0</td>\n",
       "      <td>4168</td>\n",
       "      <td>2630</td>\n",
       "      <td>12000</td>\n",
       "      <td>8250</td>\n",
       "      <td>...</td>\n",
       "      <td>10794</td>\n",
       "      <td>45382</td>\n",
       "      <td>3660</td>\n",
       "      <td>25467</td>\n",
       "      <td>6261</td>\n",
       "      <td>32605</td>\n",
       "      <td>2698</td>\n",
       "      <td>6741</td>\n",
       "      <td>7630</td>\n",
       "      <td>45367</td>\n",
       "    </tr>\n",
       "    <tr>\n",
       "      <th>3</th>\n",
       "      <td>4</td>\n",
       "      <td>Angola</td>\n",
       "      <td>0</td>\n",
       "      <td>0</td>\n",
       "      <td>0</td>\n",
       "      <td>0</td>\n",
       "      <td>0</td>\n",
       "      <td>0</td>\n",
       "      <td>0</td>\n",
       "      <td>0</td>\n",
       "      <td>...</td>\n",
       "      <td>477</td>\n",
       "      <td>709</td>\n",
       "      <td>345</td>\n",
       "      <td>1065</td>\n",
       "      <td>0</td>\n",
       "      <td>0</td>\n",
       "      <td>0</td>\n",
       "      <td>0</td>\n",
       "      <td>4068</td>\n",
       "      <td>4761</td>\n",
       "    </tr>\n",
       "    <tr>\n",
       "      <th>4</th>\n",
       "      <td>5</td>\n",
       "      <td>Anguilla</td>\n",
       "      <td>0</td>\n",
       "      <td>0</td>\n",
       "      <td>0</td>\n",
       "      <td>0</td>\n",
       "      <td>0</td>\n",
       "      <td>0</td>\n",
       "      <td>0</td>\n",
       "      <td>0</td>\n",
       "      <td>...</td>\n",
       "      <td>0</td>\n",
       "      <td>0</td>\n",
       "      <td>0</td>\n",
       "      <td>0</td>\n",
       "      <td>0</td>\n",
       "      <td>0</td>\n",
       "      <td>0</td>\n",
       "      <td>0</td>\n",
       "      <td>0</td>\n",
       "      <td>0</td>\n",
       "    </tr>\n",
       "    <tr>\n",
       "      <th>...</th>\n",
       "      <td>...</td>\n",
       "      <td>...</td>\n",
       "      <td>...</td>\n",
       "      <td>...</td>\n",
       "      <td>...</td>\n",
       "      <td>...</td>\n",
       "      <td>...</td>\n",
       "      <td>...</td>\n",
       "      <td>...</td>\n",
       "      <td>...</td>\n",
       "      <td>...</td>\n",
       "      <td>...</td>\n",
       "      <td>...</td>\n",
       "      <td>...</td>\n",
       "      <td>...</td>\n",
       "      <td>...</td>\n",
       "      <td>...</td>\n",
       "      <td>...</td>\n",
       "      <td>...</td>\n",
       "      <td>...</td>\n",
       "      <td>...</td>\n",
       "    </tr>\n",
       "    <tr>\n",
       "      <th>123</th>\n",
       "      <td>124</td>\n",
       "      <td>Tuvalu</td>\n",
       "      <td>0</td>\n",
       "      <td>0</td>\n",
       "      <td>0</td>\n",
       "      <td>0</td>\n",
       "      <td>0</td>\n",
       "      <td>0</td>\n",
       "      <td>0</td>\n",
       "      <td>0</td>\n",
       "      <td>...</td>\n",
       "      <td>0</td>\n",
       "      <td>0</td>\n",
       "      <td>0</td>\n",
       "      <td>0</td>\n",
       "      <td>2</td>\n",
       "      <td>4</td>\n",
       "      <td>0</td>\n",
       "      <td>0</td>\n",
       "      <td>0</td>\n",
       "      <td>0</td>\n",
       "    </tr>\n",
       "    <tr>\n",
       "      <th>124</th>\n",
       "      <td>125</td>\n",
       "      <td>Uruguai</td>\n",
       "      <td>0</td>\n",
       "      <td>0</td>\n",
       "      <td>0</td>\n",
       "      <td>0</td>\n",
       "      <td>0</td>\n",
       "      <td>0</td>\n",
       "      <td>0</td>\n",
       "      <td>0</td>\n",
       "      <td>...</td>\n",
       "      <td>7711</td>\n",
       "      <td>29617</td>\n",
       "      <td>6180</td>\n",
       "      <td>18497</td>\n",
       "      <td>0</td>\n",
       "      <td>0</td>\n",
       "      <td>136774</td>\n",
       "      <td>149842</td>\n",
       "      <td>637117</td>\n",
       "      <td>997367</td>\n",
       "    </tr>\n",
       "    <tr>\n",
       "      <th>125</th>\n",
       "      <td>126</td>\n",
       "      <td>Vanuatu</td>\n",
       "      <td>0</td>\n",
       "      <td>0</td>\n",
       "      <td>0</td>\n",
       "      <td>0</td>\n",
       "      <td>0</td>\n",
       "      <td>0</td>\n",
       "      <td>0</td>\n",
       "      <td>0</td>\n",
       "      <td>...</td>\n",
       "      <td>0</td>\n",
       "      <td>0</td>\n",
       "      <td>0</td>\n",
       "      <td>0</td>\n",
       "      <td>18</td>\n",
       "      <td>31</td>\n",
       "      <td>0</td>\n",
       "      <td>0</td>\n",
       "      <td>0</td>\n",
       "      <td>0</td>\n",
       "    </tr>\n",
       "    <tr>\n",
       "      <th>126</th>\n",
       "      <td>127</td>\n",
       "      <td>Venezuela</td>\n",
       "      <td>0</td>\n",
       "      <td>0</td>\n",
       "      <td>3200</td>\n",
       "      <td>2000</td>\n",
       "      <td>1350</td>\n",
       "      <td>750</td>\n",
       "      <td>11700</td>\n",
       "      <td>6458</td>\n",
       "      <td>...</td>\n",
       "      <td>71</td>\n",
       "      <td>355</td>\n",
       "      <td>0</td>\n",
       "      <td>0</td>\n",
       "      <td>4086</td>\n",
       "      <td>9808</td>\n",
       "      <td>26415</td>\n",
       "      <td>35944</td>\n",
       "      <td>23220</td>\n",
       "      <td>32351</td>\n",
       "    </tr>\n",
       "    <tr>\n",
       "      <th>127</th>\n",
       "      <td>128</td>\n",
       "      <td>Vietnã</td>\n",
       "      <td>0</td>\n",
       "      <td>0</td>\n",
       "      <td>0</td>\n",
       "      <td>0</td>\n",
       "      <td>0</td>\n",
       "      <td>0</td>\n",
       "      <td>0</td>\n",
       "      <td>0</td>\n",
       "      <td>...</td>\n",
       "      <td>0</td>\n",
       "      <td>0</td>\n",
       "      <td>20</td>\n",
       "      <td>32</td>\n",
       "      <td>86</td>\n",
       "      <td>584</td>\n",
       "      <td>0</td>\n",
       "      <td>0</td>\n",
       "      <td>130</td>\n",
       "      <td>277</td>\n",
       "    </tr>\n",
       "  </tbody>\n",
       "</table>\n",
       "<p>128 rows × 108 columns</p>\n",
       "</div>"
      ],
      "text/plain": [
       "      Id                             País  1970  1970.1  1971  1971.1  1972  \\\n",
       "0      1                      Afeganistão     0       0     0       0     0   \n",
       "1      2                    África do Sul     0       0     0       0     0   \n",
       "2      3  Alemanha, República Democrática     0       0     0       0  4168   \n",
       "3      4                           Angola     0       0     0       0     0   \n",
       "4      5                         Anguilla     0       0     0       0     0   \n",
       "..   ...                              ...   ...     ...   ...     ...   ...   \n",
       "123  124                           Tuvalu     0       0     0       0     0   \n",
       "124  125                          Uruguai     0       0     0       0     0   \n",
       "125  126                          Vanuatu     0       0     0       0     0   \n",
       "126  127                        Venezuela     0       0  3200    2000  1350   \n",
       "127  128                           Vietnã     0       0     0       0     0   \n",
       "\n",
       "     1972.1   1973  1973.1  ...   2018  2018.1  2019  2019.1  2020  2020.1  \\\n",
       "0         0      0       0  ...      0       0     0       0     0       0   \n",
       "1         0      0       0  ...      0       0    26      95     4      21   \n",
       "2      2630  12000    8250  ...  10794   45382  3660   25467  6261   32605   \n",
       "3         0      0       0  ...    477     709   345    1065     0       0   \n",
       "4         0      0       0  ...      0       0     0       0     0       0   \n",
       "..      ...    ...     ...  ...    ...     ...   ...     ...   ...     ...   \n",
       "123       0      0       0  ...      0       0     0       0     2       4   \n",
       "124       0      0       0  ...   7711   29617  6180   18497     0       0   \n",
       "125       0      0       0  ...      0       0     0       0    18      31   \n",
       "126     750  11700    6458  ...     71     355     0       0  4086    9808   \n",
       "127       0      0       0  ...      0       0    20      32    86     584   \n",
       "\n",
       "       2021  2021.1    2022  2022.1  \n",
       "0        11      46       0       0  \n",
       "1         0       0       0       0  \n",
       "2      2698    6741    7630   45367  \n",
       "3         0       0    4068    4761  \n",
       "4         0       0       0       0  \n",
       "..      ...     ...     ...     ...  \n",
       "123       0       0       0       0  \n",
       "124  136774  149842  637117  997367  \n",
       "125       0       0       0       0  \n",
       "126   26415   35944   23220   32351  \n",
       "127       0       0     130     277  \n",
       "\n",
       "[128 rows x 108 columns]"
      ]
     },
     "metadata": {},
     "output_type": "display_data"
    }
   ],
   "source": [
    "# carregando a base\n",
    "base_vinhos = pd.read_csv('S:\\FIAP\\Fase1_Analise_Exploratoria_de_dados\\ExpVinho.csv', encoding='utf-8', sep=';')\n",
    "display(base_vinhos)"
   ]
  },
  {
   "cell_type": "code",
   "execution_count": null,
   "metadata": {},
   "outputs": [],
   "source": [
    "# Filtrando os ultimo"
   ]
  },
  {
   "cell_type": "code",
   "execution_count": 9,
   "metadata": {},
   "outputs": [
    {
     "data": {
      "text/html": [
       "<div>\n",
       "<style scoped>\n",
       "    .dataframe tbody tr th:only-of-type {\n",
       "        vertical-align: middle;\n",
       "    }\n",
       "\n",
       "    .dataframe tbody tr th {\n",
       "        vertical-align: top;\n",
       "    }\n",
       "\n",
       "    .dataframe thead th {\n",
       "        text-align: right;\n",
       "    }\n",
       "</style>\n",
       "<table border=\"1\" class=\"dataframe\">\n",
       "  <thead>\n",
       "    <tr style=\"text-align: right;\">\n",
       "      <th></th>\n",
       "      <th>Id</th>\n",
       "      <th>País</th>\n",
       "      <th>1970</th>\n",
       "      <th>1970.1</th>\n",
       "      <th>1971</th>\n",
       "      <th>1971.1</th>\n",
       "      <th>1972</th>\n",
       "      <th>1972.1</th>\n",
       "      <th>1973</th>\n",
       "      <th>1973.1</th>\n",
       "      <th>...</th>\n",
       "      <th>2018</th>\n",
       "      <th>2018.1</th>\n",
       "      <th>2019</th>\n",
       "      <th>2019.1</th>\n",
       "      <th>2020</th>\n",
       "      <th>2020.1</th>\n",
       "      <th>2021</th>\n",
       "      <th>2021.1</th>\n",
       "      <th>2022</th>\n",
       "      <th>2022.1</th>\n",
       "    </tr>\n",
       "  </thead>\n",
       "  <tbody>\n",
       "    <tr>\n",
       "      <th>0</th>\n",
       "      <td>1</td>\n",
       "      <td>Afeganistão</td>\n",
       "      <td>0</td>\n",
       "      <td>0</td>\n",
       "      <td>0</td>\n",
       "      <td>0</td>\n",
       "      <td>0</td>\n",
       "      <td>0</td>\n",
       "      <td>0</td>\n",
       "      <td>0</td>\n",
       "      <td>...</td>\n",
       "      <td>0</td>\n",
       "      <td>0</td>\n",
       "      <td>0</td>\n",
       "      <td>0</td>\n",
       "      <td>0</td>\n",
       "      <td>0</td>\n",
       "      <td>11</td>\n",
       "      <td>46</td>\n",
       "      <td>0</td>\n",
       "      <td>0</td>\n",
       "    </tr>\n",
       "    <tr>\n",
       "      <th>1</th>\n",
       "      <td>2</td>\n",
       "      <td>África do Sul</td>\n",
       "      <td>0</td>\n",
       "      <td>0</td>\n",
       "      <td>0</td>\n",
       "      <td>0</td>\n",
       "      <td>0</td>\n",
       "      <td>0</td>\n",
       "      <td>0</td>\n",
       "      <td>0</td>\n",
       "      <td>...</td>\n",
       "      <td>0</td>\n",
       "      <td>0</td>\n",
       "      <td>26</td>\n",
       "      <td>95</td>\n",
       "      <td>4</td>\n",
       "      <td>21</td>\n",
       "      <td>0</td>\n",
       "      <td>0</td>\n",
       "      <td>0</td>\n",
       "      <td>0</td>\n",
       "    </tr>\n",
       "  </tbody>\n",
       "</table>\n",
       "<p>2 rows × 108 columns</p>\n",
       "</div>"
      ],
      "text/plain": [
       "   Id           País  1970  1970.1  1971  1971.1  1972  1972.1  1973  1973.1  \\\n",
       "0   1    Afeganistão     0       0     0       0     0       0     0       0   \n",
       "1   2  África do Sul     0       0     0       0     0       0     0       0   \n",
       "\n",
       "   ...  2018  2018.1  2019  2019.1  2020  2020.1  2021  2021.1  2022  2022.1  \n",
       "0  ...     0       0     0       0     0       0    11      46     0       0  \n",
       "1  ...     0       0    26      95     4      21     0       0     0       0  \n",
       "\n",
       "[2 rows x 108 columns]"
      ]
     },
     "metadata": {},
     "output_type": "display_data"
    }
   ],
   "source": [
    "display(base_vinhos.head(2))"
   ]
  },
  {
   "cell_type": "markdown",
   "metadata": {},
   "source": [
    "### Tratando os dados"
   ]
  },
  {
   "cell_type": "code",
   "execution_count": 10,
   "metadata": {},
   "outputs": [],
   "source": [
    "# excluindo a coluna Id\n",
    "base_vinhos = base_vinhos.drop('Id', axis=1)\n",
    "base_vinhos = base_vinhos.set_index('País')"
   ]
  },
  {
   "cell_type": "markdown",
   "metadata": {},
   "source": [
    "Foi necessário criar dfs separados para vendas e quantidade, tratar um de cada vez e depois unificar"
   ]
  },
  {
   "cell_type": "code",
   "execution_count": 4,
   "metadata": {},
   "outputs": [
    {
     "data": {
      "text/html": [
       "<div>\n",
       "<style scoped>\n",
       "    .dataframe tbody tr th:only-of-type {\n",
       "        vertical-align: middle;\n",
       "    }\n",
       "\n",
       "    .dataframe tbody tr th {\n",
       "        vertical-align: top;\n",
       "    }\n",
       "\n",
       "    .dataframe thead th {\n",
       "        text-align: right;\n",
       "    }\n",
       "</style>\n",
       "<table border=\"1\" class=\"dataframe\">\n",
       "  <thead>\n",
       "    <tr style=\"text-align: right;\">\n",
       "      <th></th>\n",
       "      <th>País</th>\n",
       "      <th>1970</th>\n",
       "      <th>1971</th>\n",
       "      <th>1972</th>\n",
       "      <th>1973</th>\n",
       "      <th>1974</th>\n",
       "      <th>1975</th>\n",
       "      <th>1976</th>\n",
       "      <th>1977</th>\n",
       "      <th>1978</th>\n",
       "      <th>...</th>\n",
       "      <th>2013</th>\n",
       "      <th>2014</th>\n",
       "      <th>2015</th>\n",
       "      <th>2016</th>\n",
       "      <th>2017</th>\n",
       "      <th>2018</th>\n",
       "      <th>2019</th>\n",
       "      <th>2020</th>\n",
       "      <th>2021</th>\n",
       "      <th>2022</th>\n",
       "    </tr>\n",
       "  </thead>\n",
       "  <tbody>\n",
       "    <tr>\n",
       "      <th>0</th>\n",
       "      <td>Afeganistão</td>\n",
       "      <td>0</td>\n",
       "      <td>0</td>\n",
       "      <td>0</td>\n",
       "      <td>0</td>\n",
       "      <td>0</td>\n",
       "      <td>0</td>\n",
       "      <td>0</td>\n",
       "      <td>0</td>\n",
       "      <td>0</td>\n",
       "      <td>...</td>\n",
       "      <td>0</td>\n",
       "      <td>0</td>\n",
       "      <td>0</td>\n",
       "      <td>0</td>\n",
       "      <td>0</td>\n",
       "      <td>0</td>\n",
       "      <td>0</td>\n",
       "      <td>0</td>\n",
       "      <td>11</td>\n",
       "      <td>0</td>\n",
       "    </tr>\n",
       "    <tr>\n",
       "      <th>1</th>\n",
       "      <td>África do Sul</td>\n",
       "      <td>0</td>\n",
       "      <td>0</td>\n",
       "      <td>0</td>\n",
       "      <td>0</td>\n",
       "      <td>0</td>\n",
       "      <td>0</td>\n",
       "      <td>0</td>\n",
       "      <td>0</td>\n",
       "      <td>0</td>\n",
       "      <td>...</td>\n",
       "      <td>0</td>\n",
       "      <td>0</td>\n",
       "      <td>0</td>\n",
       "      <td>0</td>\n",
       "      <td>0</td>\n",
       "      <td>0</td>\n",
       "      <td>26</td>\n",
       "      <td>4</td>\n",
       "      <td>0</td>\n",
       "      <td>0</td>\n",
       "    </tr>\n",
       "    <tr>\n",
       "      <th>2</th>\n",
       "      <td>Alemanha, República Democrática</td>\n",
       "      <td>0</td>\n",
       "      <td>0</td>\n",
       "      <td>4168</td>\n",
       "      <td>12000</td>\n",
       "      <td>0</td>\n",
       "      <td>0</td>\n",
       "      <td>0</td>\n",
       "      <td>0</td>\n",
       "      <td>0</td>\n",
       "      <td>...</td>\n",
       "      <td>61699</td>\n",
       "      <td>213348</td>\n",
       "      <td>10680</td>\n",
       "      <td>14012</td>\n",
       "      <td>15467</td>\n",
       "      <td>10794</td>\n",
       "      <td>3660</td>\n",
       "      <td>6261</td>\n",
       "      <td>2698</td>\n",
       "      <td>7630</td>\n",
       "    </tr>\n",
       "    <tr>\n",
       "      <th>3</th>\n",
       "      <td>Angola</td>\n",
       "      <td>0</td>\n",
       "      <td>0</td>\n",
       "      <td>0</td>\n",
       "      <td>0</td>\n",
       "      <td>0</td>\n",
       "      <td>0</td>\n",
       "      <td>0</td>\n",
       "      <td>0</td>\n",
       "      <td>0</td>\n",
       "      <td>...</td>\n",
       "      <td>1573</td>\n",
       "      <td>12182</td>\n",
       "      <td>1908</td>\n",
       "      <td>7359</td>\n",
       "      <td>10170</td>\n",
       "      <td>477</td>\n",
       "      <td>345</td>\n",
       "      <td>0</td>\n",
       "      <td>0</td>\n",
       "      <td>4068</td>\n",
       "    </tr>\n",
       "    <tr>\n",
       "      <th>4</th>\n",
       "      <td>Anguilla</td>\n",
       "      <td>0</td>\n",
       "      <td>0</td>\n",
       "      <td>0</td>\n",
       "      <td>0</td>\n",
       "      <td>0</td>\n",
       "      <td>0</td>\n",
       "      <td>0</td>\n",
       "      <td>0</td>\n",
       "      <td>0</td>\n",
       "      <td>...</td>\n",
       "      <td>0</td>\n",
       "      <td>0</td>\n",
       "      <td>0</td>\n",
       "      <td>0</td>\n",
       "      <td>0</td>\n",
       "      <td>0</td>\n",
       "      <td>0</td>\n",
       "      <td>0</td>\n",
       "      <td>0</td>\n",
       "      <td>0</td>\n",
       "    </tr>\n",
       "    <tr>\n",
       "      <th>...</th>\n",
       "      <td>...</td>\n",
       "      <td>...</td>\n",
       "      <td>...</td>\n",
       "      <td>...</td>\n",
       "      <td>...</td>\n",
       "      <td>...</td>\n",
       "      <td>...</td>\n",
       "      <td>...</td>\n",
       "      <td>...</td>\n",
       "      <td>...</td>\n",
       "      <td>...</td>\n",
       "      <td>...</td>\n",
       "      <td>...</td>\n",
       "      <td>...</td>\n",
       "      <td>...</td>\n",
       "      <td>...</td>\n",
       "      <td>...</td>\n",
       "      <td>...</td>\n",
       "      <td>...</td>\n",
       "      <td>...</td>\n",
       "      <td>...</td>\n",
       "    </tr>\n",
       "    <tr>\n",
       "      <th>123</th>\n",
       "      <td>Tuvalu</td>\n",
       "      <td>0</td>\n",
       "      <td>0</td>\n",
       "      <td>0</td>\n",
       "      <td>0</td>\n",
       "      <td>0</td>\n",
       "      <td>0</td>\n",
       "      <td>0</td>\n",
       "      <td>0</td>\n",
       "      <td>0</td>\n",
       "      <td>...</td>\n",
       "      <td>0</td>\n",
       "      <td>0</td>\n",
       "      <td>0</td>\n",
       "      <td>0</td>\n",
       "      <td>0</td>\n",
       "      <td>0</td>\n",
       "      <td>0</td>\n",
       "      <td>2</td>\n",
       "      <td>0</td>\n",
       "      <td>0</td>\n",
       "    </tr>\n",
       "    <tr>\n",
       "      <th>124</th>\n",
       "      <td>Uruguai</td>\n",
       "      <td>0</td>\n",
       "      <td>0</td>\n",
       "      <td>0</td>\n",
       "      <td>0</td>\n",
       "      <td>0</td>\n",
       "      <td>0</td>\n",
       "      <td>0</td>\n",
       "      <td>1384</td>\n",
       "      <td>13396</td>\n",
       "      <td>...</td>\n",
       "      <td>1526</td>\n",
       "      <td>0</td>\n",
       "      <td>0</td>\n",
       "      <td>0</td>\n",
       "      <td>0</td>\n",
       "      <td>7711</td>\n",
       "      <td>6180</td>\n",
       "      <td>0</td>\n",
       "      <td>136774</td>\n",
       "      <td>637117</td>\n",
       "    </tr>\n",
       "    <tr>\n",
       "      <th>125</th>\n",
       "      <td>Vanuatu</td>\n",
       "      <td>0</td>\n",
       "      <td>0</td>\n",
       "      <td>0</td>\n",
       "      <td>0</td>\n",
       "      <td>0</td>\n",
       "      <td>0</td>\n",
       "      <td>0</td>\n",
       "      <td>0</td>\n",
       "      <td>0</td>\n",
       "      <td>...</td>\n",
       "      <td>0</td>\n",
       "      <td>0</td>\n",
       "      <td>0</td>\n",
       "      <td>0</td>\n",
       "      <td>0</td>\n",
       "      <td>0</td>\n",
       "      <td>0</td>\n",
       "      <td>18</td>\n",
       "      <td>0</td>\n",
       "      <td>0</td>\n",
       "    </tr>\n",
       "    <tr>\n",
       "      <th>126</th>\n",
       "      <td>Venezuela</td>\n",
       "      <td>0</td>\n",
       "      <td>3200</td>\n",
       "      <td>1350</td>\n",
       "      <td>11700</td>\n",
       "      <td>9830</td>\n",
       "      <td>4050</td>\n",
       "      <td>0</td>\n",
       "      <td>0</td>\n",
       "      <td>0</td>\n",
       "      <td>...</td>\n",
       "      <td>0</td>\n",
       "      <td>14</td>\n",
       "      <td>0</td>\n",
       "      <td>0</td>\n",
       "      <td>680</td>\n",
       "      <td>71</td>\n",
       "      <td>0</td>\n",
       "      <td>4086</td>\n",
       "      <td>26415</td>\n",
       "      <td>23220</td>\n",
       "    </tr>\n",
       "    <tr>\n",
       "      <th>127</th>\n",
       "      <td>Vietnã</td>\n",
       "      <td>0</td>\n",
       "      <td>0</td>\n",
       "      <td>0</td>\n",
       "      <td>0</td>\n",
       "      <td>0</td>\n",
       "      <td>0</td>\n",
       "      <td>0</td>\n",
       "      <td>0</td>\n",
       "      <td>0</td>\n",
       "      <td>...</td>\n",
       "      <td>0</td>\n",
       "      <td>0</td>\n",
       "      <td>0</td>\n",
       "      <td>0</td>\n",
       "      <td>0</td>\n",
       "      <td>0</td>\n",
       "      <td>20</td>\n",
       "      <td>86</td>\n",
       "      <td>0</td>\n",
       "      <td>130</td>\n",
       "    </tr>\n",
       "  </tbody>\n",
       "</table>\n",
       "<p>128 rows × 54 columns</p>\n",
       "</div>"
      ],
      "text/plain": [
       "                                País  1970  1971  1972   1973  1974  1975  \\\n",
       "0                        Afeganistão     0     0     0      0     0     0   \n",
       "1                      África do Sul     0     0     0      0     0     0   \n",
       "2    Alemanha, República Democrática     0     0  4168  12000     0     0   \n",
       "3                             Angola     0     0     0      0     0     0   \n",
       "4                           Anguilla     0     0     0      0     0     0   \n",
       "..                               ...   ...   ...   ...    ...   ...   ...   \n",
       "123                           Tuvalu     0     0     0      0     0     0   \n",
       "124                          Uruguai     0     0     0      0     0     0   \n",
       "125                          Vanuatu     0     0     0      0     0     0   \n",
       "126                        Venezuela     0  3200  1350  11700  9830  4050   \n",
       "127                           Vietnã     0     0     0      0     0     0   \n",
       "\n",
       "     1976  1977   1978  ...   2013    2014   2015   2016   2017   2018  2019  \\\n",
       "0       0     0      0  ...      0       0      0      0      0      0     0   \n",
       "1       0     0      0  ...      0       0      0      0      0      0    26   \n",
       "2       0     0      0  ...  61699  213348  10680  14012  15467  10794  3660   \n",
       "3       0     0      0  ...   1573   12182   1908   7359  10170    477   345   \n",
       "4       0     0      0  ...      0       0      0      0      0      0     0   \n",
       "..    ...   ...    ...  ...    ...     ...    ...    ...    ...    ...   ...   \n",
       "123     0     0      0  ...      0       0      0      0      0      0     0   \n",
       "124     0  1384  13396  ...   1526       0      0      0      0   7711  6180   \n",
       "125     0     0      0  ...      0       0      0      0      0      0     0   \n",
       "126     0     0      0  ...      0      14      0      0    680     71     0   \n",
       "127     0     0      0  ...      0       0      0      0      0      0    20   \n",
       "\n",
       "     2020    2021    2022  \n",
       "0       0      11       0  \n",
       "1       4       0       0  \n",
       "2    6261    2698    7630  \n",
       "3       0       0    4068  \n",
       "4       0       0       0  \n",
       "..    ...     ...     ...  \n",
       "123     2       0       0  \n",
       "124     0  136774  637117  \n",
       "125    18       0       0  \n",
       "126  4086   26415   23220  \n",
       "127    86       0     130  \n",
       "\n",
       "[128 rows x 54 columns]"
      ]
     },
     "metadata": {},
     "output_type": "display_data"
    },
    {
     "data": {
      "text/html": [
       "<div>\n",
       "<style scoped>\n",
       "    .dataframe tbody tr th:only-of-type {\n",
       "        vertical-align: middle;\n",
       "    }\n",
       "\n",
       "    .dataframe tbody tr th {\n",
       "        vertical-align: top;\n",
       "    }\n",
       "\n",
       "    .dataframe thead th {\n",
       "        text-align: right;\n",
       "    }\n",
       "</style>\n",
       "<table border=\"1\" class=\"dataframe\">\n",
       "  <thead>\n",
       "    <tr style=\"text-align: right;\">\n",
       "      <th></th>\n",
       "      <th>1970.1</th>\n",
       "      <th>1971.1</th>\n",
       "      <th>1972.1</th>\n",
       "      <th>1973.1</th>\n",
       "      <th>1974.1</th>\n",
       "      <th>1975.1</th>\n",
       "      <th>1976.1</th>\n",
       "      <th>1977.1</th>\n",
       "      <th>1978.1</th>\n",
       "      <th>1979.1</th>\n",
       "      <th>...</th>\n",
       "      <th>2013.1</th>\n",
       "      <th>2014.1</th>\n",
       "      <th>2015.1</th>\n",
       "      <th>2016.1</th>\n",
       "      <th>2017.1</th>\n",
       "      <th>2018.1</th>\n",
       "      <th>2019.1</th>\n",
       "      <th>2020.1</th>\n",
       "      <th>2021.1</th>\n",
       "      <th>2022.1</th>\n",
       "    </tr>\n",
       "  </thead>\n",
       "  <tbody>\n",
       "    <tr>\n",
       "      <th>0</th>\n",
       "      <td>0</td>\n",
       "      <td>0</td>\n",
       "      <td>0</td>\n",
       "      <td>0</td>\n",
       "      <td>0</td>\n",
       "      <td>0</td>\n",
       "      <td>0</td>\n",
       "      <td>0</td>\n",
       "      <td>0</td>\n",
       "      <td>0</td>\n",
       "      <td>...</td>\n",
       "      <td>0</td>\n",
       "      <td>0</td>\n",
       "      <td>0</td>\n",
       "      <td>0</td>\n",
       "      <td>0</td>\n",
       "      <td>0</td>\n",
       "      <td>0</td>\n",
       "      <td>0</td>\n",
       "      <td>46</td>\n",
       "      <td>0</td>\n",
       "    </tr>\n",
       "    <tr>\n",
       "      <th>1</th>\n",
       "      <td>0</td>\n",
       "      <td>0</td>\n",
       "      <td>0</td>\n",
       "      <td>0</td>\n",
       "      <td>0</td>\n",
       "      <td>0</td>\n",
       "      <td>0</td>\n",
       "      <td>0</td>\n",
       "      <td>0</td>\n",
       "      <td>0</td>\n",
       "      <td>...</td>\n",
       "      <td>0</td>\n",
       "      <td>0</td>\n",
       "      <td>0</td>\n",
       "      <td>0</td>\n",
       "      <td>0</td>\n",
       "      <td>0</td>\n",
       "      <td>95</td>\n",
       "      <td>21</td>\n",
       "      <td>0</td>\n",
       "      <td>0</td>\n",
       "    </tr>\n",
       "    <tr>\n",
       "      <th>2</th>\n",
       "      <td>0</td>\n",
       "      <td>0</td>\n",
       "      <td>2630</td>\n",
       "      <td>8250</td>\n",
       "      <td>0</td>\n",
       "      <td>0</td>\n",
       "      <td>0</td>\n",
       "      <td>0</td>\n",
       "      <td>0</td>\n",
       "      <td>6500</td>\n",
       "      <td>...</td>\n",
       "      <td>265978</td>\n",
       "      <td>761653</td>\n",
       "      <td>44780</td>\n",
       "      <td>68109</td>\n",
       "      <td>87702</td>\n",
       "      <td>45382</td>\n",
       "      <td>25467</td>\n",
       "      <td>32605</td>\n",
       "      <td>6741</td>\n",
       "      <td>45367</td>\n",
       "    </tr>\n",
       "    <tr>\n",
       "      <th>3</th>\n",
       "      <td>0</td>\n",
       "      <td>0</td>\n",
       "      <td>0</td>\n",
       "      <td>0</td>\n",
       "      <td>0</td>\n",
       "      <td>0</td>\n",
       "      <td>0</td>\n",
       "      <td>0</td>\n",
       "      <td>0</td>\n",
       "      <td>2387643</td>\n",
       "      <td>...</td>\n",
       "      <td>9300</td>\n",
       "      <td>23124</td>\n",
       "      <td>17089</td>\n",
       "      <td>35390</td>\n",
       "      <td>61680</td>\n",
       "      <td>709</td>\n",
       "      <td>1065</td>\n",
       "      <td>0</td>\n",
       "      <td>0</td>\n",
       "      <td>4761</td>\n",
       "    </tr>\n",
       "    <tr>\n",
       "      <th>4</th>\n",
       "      <td>0</td>\n",
       "      <td>0</td>\n",
       "      <td>0</td>\n",
       "      <td>0</td>\n",
       "      <td>0</td>\n",
       "      <td>0</td>\n",
       "      <td>0</td>\n",
       "      <td>0</td>\n",
       "      <td>0</td>\n",
       "      <td>0</td>\n",
       "      <td>...</td>\n",
       "      <td>0</td>\n",
       "      <td>0</td>\n",
       "      <td>0</td>\n",
       "      <td>0</td>\n",
       "      <td>0</td>\n",
       "      <td>0</td>\n",
       "      <td>0</td>\n",
       "      <td>0</td>\n",
       "      <td>0</td>\n",
       "      <td>0</td>\n",
       "    </tr>\n",
       "    <tr>\n",
       "      <th>...</th>\n",
       "      <td>...</td>\n",
       "      <td>...</td>\n",
       "      <td>...</td>\n",
       "      <td>...</td>\n",
       "      <td>...</td>\n",
       "      <td>...</td>\n",
       "      <td>...</td>\n",
       "      <td>...</td>\n",
       "      <td>...</td>\n",
       "      <td>...</td>\n",
       "      <td>...</td>\n",
       "      <td>...</td>\n",
       "      <td>...</td>\n",
       "      <td>...</td>\n",
       "      <td>...</td>\n",
       "      <td>...</td>\n",
       "      <td>...</td>\n",
       "      <td>...</td>\n",
       "      <td>...</td>\n",
       "      <td>...</td>\n",
       "      <td>...</td>\n",
       "    </tr>\n",
       "    <tr>\n",
       "      <th>123</th>\n",
       "      <td>0</td>\n",
       "      <td>0</td>\n",
       "      <td>0</td>\n",
       "      <td>0</td>\n",
       "      <td>0</td>\n",
       "      <td>0</td>\n",
       "      <td>0</td>\n",
       "      <td>0</td>\n",
       "      <td>0</td>\n",
       "      <td>0</td>\n",
       "      <td>...</td>\n",
       "      <td>0</td>\n",
       "      <td>0</td>\n",
       "      <td>0</td>\n",
       "      <td>0</td>\n",
       "      <td>0</td>\n",
       "      <td>0</td>\n",
       "      <td>0</td>\n",
       "      <td>4</td>\n",
       "      <td>0</td>\n",
       "      <td>0</td>\n",
       "    </tr>\n",
       "    <tr>\n",
       "      <th>124</th>\n",
       "      <td>0</td>\n",
       "      <td>0</td>\n",
       "      <td>0</td>\n",
       "      <td>0</td>\n",
       "      <td>0</td>\n",
       "      <td>0</td>\n",
       "      <td>0</td>\n",
       "      <td>720</td>\n",
       "      <td>5128</td>\n",
       "      <td>12285</td>\n",
       "      <td>...</td>\n",
       "      <td>13343</td>\n",
       "      <td>0</td>\n",
       "      <td>0</td>\n",
       "      <td>0</td>\n",
       "      <td>0</td>\n",
       "      <td>29617</td>\n",
       "      <td>18497</td>\n",
       "      <td>0</td>\n",
       "      <td>149842</td>\n",
       "      <td>997367</td>\n",
       "    </tr>\n",
       "    <tr>\n",
       "      <th>125</th>\n",
       "      <td>0</td>\n",
       "      <td>0</td>\n",
       "      <td>0</td>\n",
       "      <td>0</td>\n",
       "      <td>0</td>\n",
       "      <td>0</td>\n",
       "      <td>0</td>\n",
       "      <td>0</td>\n",
       "      <td>0</td>\n",
       "      <td>0</td>\n",
       "      <td>...</td>\n",
       "      <td>0</td>\n",
       "      <td>0</td>\n",
       "      <td>0</td>\n",
       "      <td>0</td>\n",
       "      <td>0</td>\n",
       "      <td>0</td>\n",
       "      <td>0</td>\n",
       "      <td>31</td>\n",
       "      <td>0</td>\n",
       "      <td>0</td>\n",
       "    </tr>\n",
       "    <tr>\n",
       "      <th>126</th>\n",
       "      <td>0</td>\n",
       "      <td>2000</td>\n",
       "      <td>750</td>\n",
       "      <td>6458</td>\n",
       "      <td>5250</td>\n",
       "      <td>2488</td>\n",
       "      <td>0</td>\n",
       "      <td>0</td>\n",
       "      <td>0</td>\n",
       "      <td>0</td>\n",
       "      <td>...</td>\n",
       "      <td>0</td>\n",
       "      <td>232</td>\n",
       "      <td>0</td>\n",
       "      <td>0</td>\n",
       "      <td>2646</td>\n",
       "      <td>355</td>\n",
       "      <td>0</td>\n",
       "      <td>9808</td>\n",
       "      <td>35944</td>\n",
       "      <td>32351</td>\n",
       "    </tr>\n",
       "    <tr>\n",
       "      <th>127</th>\n",
       "      <td>0</td>\n",
       "      <td>0</td>\n",
       "      <td>0</td>\n",
       "      <td>0</td>\n",
       "      <td>0</td>\n",
       "      <td>0</td>\n",
       "      <td>0</td>\n",
       "      <td>0</td>\n",
       "      <td>0</td>\n",
       "      <td>0</td>\n",
       "      <td>...</td>\n",
       "      <td>0</td>\n",
       "      <td>0</td>\n",
       "      <td>0</td>\n",
       "      <td>0</td>\n",
       "      <td>0</td>\n",
       "      <td>0</td>\n",
       "      <td>32</td>\n",
       "      <td>584</td>\n",
       "      <td>0</td>\n",
       "      <td>277</td>\n",
       "    </tr>\n",
       "  </tbody>\n",
       "</table>\n",
       "<p>128 rows × 53 columns</p>\n",
       "</div>"
      ],
      "text/plain": [
       "     1970.1  1971.1  1972.1  1973.1  1974.1  1975.1  1976.1  1977.1  1978.1  \\\n",
       "0         0       0       0       0       0       0       0       0       0   \n",
       "1         0       0       0       0       0       0       0       0       0   \n",
       "2         0       0    2630    8250       0       0       0       0       0   \n",
       "3         0       0       0       0       0       0       0       0       0   \n",
       "4         0       0       0       0       0       0       0       0       0   \n",
       "..      ...     ...     ...     ...     ...     ...     ...     ...     ...   \n",
       "123       0       0       0       0       0       0       0       0       0   \n",
       "124       0       0       0       0       0       0       0     720    5128   \n",
       "125       0       0       0       0       0       0       0       0       0   \n",
       "126       0    2000     750    6458    5250    2488       0       0       0   \n",
       "127       0       0       0       0       0       0       0       0       0   \n",
       "\n",
       "      1979.1  ...  2013.1  2014.1  2015.1  2016.1  2017.1  2018.1  2019.1  \\\n",
       "0          0  ...       0       0       0       0       0       0       0   \n",
       "1          0  ...       0       0       0       0       0       0      95   \n",
       "2       6500  ...  265978  761653   44780   68109   87702   45382   25467   \n",
       "3    2387643  ...    9300   23124   17089   35390   61680     709    1065   \n",
       "4          0  ...       0       0       0       0       0       0       0   \n",
       "..       ...  ...     ...     ...     ...     ...     ...     ...     ...   \n",
       "123        0  ...       0       0       0       0       0       0       0   \n",
       "124    12285  ...   13343       0       0       0       0   29617   18497   \n",
       "125        0  ...       0       0       0       0       0       0       0   \n",
       "126        0  ...       0     232       0       0    2646     355       0   \n",
       "127        0  ...       0       0       0       0       0       0      32   \n",
       "\n",
       "     2020.1  2021.1  2022.1  \n",
       "0         0      46       0  \n",
       "1        21       0       0  \n",
       "2     32605    6741   45367  \n",
       "3         0       0    4761  \n",
       "4         0       0       0  \n",
       "..      ...     ...     ...  \n",
       "123       4       0       0  \n",
       "124       0  149842  997367  \n",
       "125      31       0       0  \n",
       "126    9808   35944   32351  \n",
       "127     584       0     277  \n",
       "\n",
       "[128 rows x 53 columns]"
      ]
     },
     "metadata": {},
     "output_type": "display_data"
    }
   ],
   "source": [
    "# Armazenando todas as colunas da base na variavel \"colunas\"\n",
    "colunas = base_vinhos.columns\n",
    "\n",
    "#Criando as listas vazias para receber os daos de quantidade e vendas\n",
    "colunas_qtd = []\n",
    "colunas_vendas = []\n",
    "\n",
    "#percorre cada coluna presente no DataFrame\n",
    "for coluna in colunas:\n",
    "      #Verifica se o nome da coluna termina com .1. Se sim, adiciona essa coluna à lista colunas_vendas.\n",
    "      if coluna.endswith('.1'): \n",
    "            colunas_vendas.append(coluna)\n",
    "      \n",
    "      #Verifica se o comprimento do nome da coluna é igual a 4 (o que pode indicar que é uma coluna relacionada à quantidade). Se sim, adiciona essa coluna à lista colunas_qtd.\n",
    "      elif len(coluna) == 4:          \n",
    "            colunas_qtd.append(coluna)\n",
    "\n",
    "      #Se a coluna não atender a nenhum dos critérios acima, ela é ignorada.\n",
    "      else:\n",
    "            pass\n",
    "      \n",
    "# criando dfs separados para as informações de quantidade e vendas\n",
    "base_vinhos_qtd = base_vinhos[colunas_qtd]\n",
    "base_vinhos_vendas = base_vinhos[colunas_vendas]\n",
    "\n",
    "display(base_vinhos_qtd)\n",
    "display(base_vinhos_vendas)"
   ]
  },
  {
   "cell_type": "markdown",
   "metadata": {},
   "source": [
    "Tratando df de quantidade"
   ]
  },
  {
   "cell_type": "code",
   "execution_count": 7,
   "metadata": {},
   "outputs": [
    {
     "ename": "KeyError",
     "evalue": "\"The following 'id_vars' are not present in the DataFrame: ['País']\"",
     "output_type": "error",
     "traceback": [
      "\u001b[1;31m---------------------------------------------------------------------------\u001b[0m",
      "\u001b[1;31mKeyError\u001b[0m                                  Traceback (most recent call last)",
      "Cell \u001b[1;32mIn[7], line 18\u001b[0m\n\u001b[0;32m     16\u001b[0m \u001b[38;5;66;03m# pivotando as colunas para linhas\u001b[39;00m\n\u001b[0;32m     17\u001b[0m base_vinhos_qtd \u001b[38;5;241m=\u001b[39m base_vinhos_qtd\u001b[38;5;241m.\u001b[39mreset_index()\n\u001b[1;32m---> 18\u001b[0m base_vinhos_qtd \u001b[38;5;241m=\u001b[39m base_vinhos_qtd\u001b[38;5;241m.\u001b[39mmelt(id_vars\u001b[38;5;241m=\u001b[39m[\u001b[38;5;124m\"\u001b[39m\u001b[38;5;124mPaís\u001b[39m\u001b[38;5;124m\"\u001b[39m], var_name\u001b[38;5;241m=\u001b[39m\u001b[38;5;124m\"\u001b[39m\u001b[38;5;124mPeriodo\u001b[39m\u001b[38;5;124m\"\u001b[39m, value_name\u001b[38;5;241m=\u001b[39m\u001b[38;5;124m\"\u001b[39m\u001b[38;5;124mVenda_volume\u001b[39m\u001b[38;5;124m\"\u001b[39m)\n\u001b[0;32m     20\u001b[0m \u001b[38;5;66;03m# renomenado as colunas\u001b[39;00m\n\u001b[0;32m     21\u001b[0m base_vinhos_qtd\u001b[38;5;241m.\u001b[39mcolumns \u001b[38;5;241m=\u001b[39m [\u001b[38;5;124m'\u001b[39m\u001b[38;5;124mPais\u001b[39m\u001b[38;5;124m'\u001b[39m, \u001b[38;5;124m'\u001b[39m\u001b[38;5;124mPeriodo\u001b[39m\u001b[38;5;124m'\u001b[39m, \u001b[38;5;124m'\u001b[39m\u001b[38;5;124mVenda_volume\u001b[39m\u001b[38;5;124m'\u001b[39m]\n",
      "File \u001b[1;32mc:\\Users\\andre\\anaconda3\\Lib\\site-packages\\pandas\\core\\frame.py:9636\u001b[0m, in \u001b[0;36mDataFrame.melt\u001b[1;34m(self, id_vars, value_vars, var_name, value_name, col_level, ignore_index)\u001b[0m\n\u001b[0;32m   9626\u001b[0m \u001b[38;5;129m@Appender\u001b[39m(_shared_docs[\u001b[38;5;124m\"\u001b[39m\u001b[38;5;124mmelt\u001b[39m\u001b[38;5;124m\"\u001b[39m] \u001b[38;5;241m%\u001b[39m {\u001b[38;5;124m\"\u001b[39m\u001b[38;5;124mcaller\u001b[39m\u001b[38;5;124m\"\u001b[39m: \u001b[38;5;124m\"\u001b[39m\u001b[38;5;124mdf.melt(\u001b[39m\u001b[38;5;124m\"\u001b[39m, \u001b[38;5;124m\"\u001b[39m\u001b[38;5;124mother\u001b[39m\u001b[38;5;124m\"\u001b[39m: \u001b[38;5;124m\"\u001b[39m\u001b[38;5;124mmelt\u001b[39m\u001b[38;5;124m\"\u001b[39m})\n\u001b[0;32m   9627\u001b[0m \u001b[38;5;28;01mdef\u001b[39;00m \u001b[38;5;21mmelt\u001b[39m(\n\u001b[0;32m   9628\u001b[0m     \u001b[38;5;28mself\u001b[39m,\n\u001b[1;32m   (...)\u001b[0m\n\u001b[0;32m   9634\u001b[0m     ignore_index: \u001b[38;5;28mbool\u001b[39m \u001b[38;5;241m=\u001b[39m \u001b[38;5;28;01mTrue\u001b[39;00m,\n\u001b[0;32m   9635\u001b[0m ) \u001b[38;5;241m-\u001b[39m\u001b[38;5;241m>\u001b[39m DataFrame:\n\u001b[1;32m-> 9636\u001b[0m     \u001b[38;5;28;01mreturn\u001b[39;00m melt(\n\u001b[0;32m   9637\u001b[0m         \u001b[38;5;28mself\u001b[39m,\n\u001b[0;32m   9638\u001b[0m         id_vars\u001b[38;5;241m=\u001b[39mid_vars,\n\u001b[0;32m   9639\u001b[0m         value_vars\u001b[38;5;241m=\u001b[39mvalue_vars,\n\u001b[0;32m   9640\u001b[0m         var_name\u001b[38;5;241m=\u001b[39mvar_name,\n\u001b[0;32m   9641\u001b[0m         value_name\u001b[38;5;241m=\u001b[39mvalue_name,\n\u001b[0;32m   9642\u001b[0m         col_level\u001b[38;5;241m=\u001b[39mcol_level,\n\u001b[0;32m   9643\u001b[0m         ignore_index\u001b[38;5;241m=\u001b[39mignore_index,\n\u001b[0;32m   9644\u001b[0m     )\u001b[38;5;241m.\u001b[39m__finalize__(\u001b[38;5;28mself\u001b[39m, method\u001b[38;5;241m=\u001b[39m\u001b[38;5;124m\"\u001b[39m\u001b[38;5;124mmelt\u001b[39m\u001b[38;5;124m\"\u001b[39m)\n",
      "File \u001b[1;32mc:\\Users\\andre\\anaconda3\\Lib\\site-packages\\pandas\\core\\reshape\\melt.py:69\u001b[0m, in \u001b[0;36mmelt\u001b[1;34m(frame, id_vars, value_vars, var_name, value_name, col_level, ignore_index)\u001b[0m\n\u001b[0;32m     67\u001b[0m         missing \u001b[38;5;241m=\u001b[39m Index(com\u001b[38;5;241m.\u001b[39mflatten(id_vars))\u001b[38;5;241m.\u001b[39mdifference(cols)\n\u001b[0;32m     68\u001b[0m         \u001b[38;5;28;01mif\u001b[39;00m \u001b[38;5;129;01mnot\u001b[39;00m missing\u001b[38;5;241m.\u001b[39mempty:\n\u001b[1;32m---> 69\u001b[0m             \u001b[38;5;28;01mraise\u001b[39;00m \u001b[38;5;167;01mKeyError\u001b[39;00m(\n\u001b[0;32m     70\u001b[0m                 \u001b[38;5;124m\"\u001b[39m\u001b[38;5;124mThe following \u001b[39m\u001b[38;5;124m'\u001b[39m\u001b[38;5;124mid_vars\u001b[39m\u001b[38;5;124m'\u001b[39m\u001b[38;5;124m are not present \u001b[39m\u001b[38;5;124m\"\u001b[39m\n\u001b[0;32m     71\u001b[0m                 \u001b[38;5;124mf\u001b[39m\u001b[38;5;124m\"\u001b[39m\u001b[38;5;124min the DataFrame: \u001b[39m\u001b[38;5;132;01m{\u001b[39;00m\u001b[38;5;28mlist\u001b[39m(missing)\u001b[38;5;132;01m}\u001b[39;00m\u001b[38;5;124m\"\u001b[39m\n\u001b[0;32m     72\u001b[0m             )\n\u001b[0;32m     73\u001b[0m \u001b[38;5;28;01melse\u001b[39;00m:\n\u001b[0;32m     74\u001b[0m     id_vars \u001b[38;5;241m=\u001b[39m []\n",
      "\u001b[1;31mKeyError\u001b[0m: \"The following 'id_vars' are not present in the DataFrame: ['País']\""
     ]
    }
   ],
   "source": [
    "# filtrando apenas os ultimos 15 anos\n",
    "base_vinhos_qtd = base_vinhos_qtd.iloc[:, -16:]\n",
    "\n",
    "# criando coluna de total\n",
    "base_vinhos_qtd['Total'] = base_vinhos_qtd.sum(axis=1)\n",
    "\n",
    "# removendo países sem dados de vendas\n",
    "base_vinhos_qtd = base_vinhos_qtd.loc[base_vinhos_qtd['Total'] != 0]\n",
    "\n",
    "# ordenando o df pela coluna de total\n",
    "base_vinhos_qtd = base_vinhos_qtd.sort_values(by='Total', ascending=False)\n",
    "\n",
    "# removendo a coluna de total porque pode atrapalhar em uma visualizaçao por exemplo\n",
    "base_vinhos_qtd = base_vinhos_qtd.drop('Total', axis=1)\n",
    "\n",
    "# pivotando as colunas para linhas\n",
    "base_vinhos_qtd = base_vinhos_qtd.reset_index()\n",
    "base_vinhos_qtd = base_vinhos_qtd.melt(id_vars=[\"País\"], var_name=\"Periodo\", value_name=\"Venda_volume\")\n",
    "\n",
    "# renomenado as colunas\n",
    "base_vinhos_qtd.columns = ['Pais', 'Periodo', 'Venda_volume']\n",
    "\n",
    "# transformando a coluna de período em data ano\n",
    "base_vinhos_qtd['Periodo'] = base_vinhos_qtd['Periodo'].astype('Int64')\n",
    "\n",
    "# transformando a coluna de quantidade em float\n",
    "base_vinhos_qtd['Venda_volume'] = base_vinhos_qtd['Venda_volume'].astype(np.float64)\n",
    "\n",
    "## todos os dados estao corretos\n",
    "      # Pais -- str\n",
    "      # Periodo -- Int64\n",
    "      # Venda_volume -- float64\n",
    "\n",
    "# -------- Exibindo a base depois dos tratamentos ----------\n",
    "\n",
    "display(base_vinhos_qtd.head(5))"
   ]
  },
  {
   "cell_type": "markdown",
   "metadata": {},
   "source": [
    "Tratando df de venda valor"
   ]
  },
  {
   "cell_type": "code",
   "execution_count": 14,
   "metadata": {},
   "outputs": [
    {
     "data": {
      "text/html": [
       "<div>\n",
       "<style scoped>\n",
       "    .dataframe tbody tr th:only-of-type {\n",
       "        vertical-align: middle;\n",
       "    }\n",
       "\n",
       "    .dataframe tbody tr th {\n",
       "        vertical-align: top;\n",
       "    }\n",
       "\n",
       "    .dataframe thead th {\n",
       "        text-align: right;\n",
       "    }\n",
       "</style>\n",
       "<table border=\"1\" class=\"dataframe\">\n",
       "  <thead>\n",
       "    <tr style=\"text-align: right;\">\n",
       "      <th></th>\n",
       "      <th>Pais</th>\n",
       "      <th>Periodo</th>\n",
       "      <th>Venda_valor</th>\n",
       "    </tr>\n",
       "  </thead>\n",
       "  <tbody>\n",
       "    <tr>\n",
       "      <th>0</th>\n",
       "      <td>Paraguai</td>\n",
       "      <td>2007</td>\n",
       "      <td>801519.0</td>\n",
       "    </tr>\n",
       "    <tr>\n",
       "      <th>1</th>\n",
       "      <td>Rússia</td>\n",
       "      <td>2007</td>\n",
       "      <td>173160.0</td>\n",
       "    </tr>\n",
       "    <tr>\n",
       "      <th>2</th>\n",
       "      <td>Estados Unidos</td>\n",
       "      <td>2007</td>\n",
       "      <td>810038.0</td>\n",
       "    </tr>\n",
       "    <tr>\n",
       "      <th>3</th>\n",
       "      <td>Reino Unido</td>\n",
       "      <td>2007</td>\n",
       "      <td>144244.0</td>\n",
       "    </tr>\n",
       "    <tr>\n",
       "      <th>4</th>\n",
       "      <td>China</td>\n",
       "      <td>2007</td>\n",
       "      <td>30390.0</td>\n",
       "    </tr>\n",
       "  </tbody>\n",
       "</table>\n",
       "</div>"
      ],
      "text/plain": [
       "             Pais  Periodo  Venda_valor\n",
       "0        Paraguai     2007     801519.0\n",
       "1          Rússia     2007     173160.0\n",
       "2  Estados Unidos     2007     810038.0\n",
       "3     Reino Unido     2007     144244.0\n",
       "4           China     2007      30390.0"
      ]
     },
     "metadata": {},
     "output_type": "display_data"
    }
   ],
   "source": [
    "# ajustando o nome das colunas do df\n",
    "colunas = []\n",
    "\n",
    "for coluna in base_vinhos_vendas.columns:\n",
    "      coluna = coluna[:4]\n",
    "      colunas.append(coluna)\n",
    "\n",
    "base_vinhos_vendas.columns = colunas\n",
    "\n",
    "# filtrando apenas os ultimos 15 anos\n",
    "base_vinhos_vendas = base_vinhos_vendas.iloc[:, -16:]\n",
    "\n",
    "# criando coluna de total\n",
    "base_vinhos_vendas['Total'] = base_vinhos_vendas.sum(axis=1)\n",
    "\n",
    "# removendo países sem dados de vendas\n",
    "base_vinhos_vendas = base_vinhos_vendas.loc[base_vinhos_vendas['Total'] != 0]\n",
    "\n",
    "# ordenando o df pela coluna de total\n",
    "base_vinhos_vendas = base_vinhos_vendas.sort_values(by='Total', ascending=False)\n",
    "\n",
    "# removendo a coluna de total porque pode atrapalhar em uma visualizaçao por exemplo\n",
    "base_vinhos_vendas = base_vinhos_vendas.drop('Total', axis=1)\n",
    "\n",
    "# pivotando as colunas para linhas\n",
    "base_vinhos_vendas = base_vinhos_vendas.reset_index()\n",
    "base_vinhos_vendas = base_vinhos_vendas.melt(id_vars=[\"País\"], var_name=\"Periodo\", value_name=\"Venda_volume\")\n",
    "\n",
    "# renomenado as colunas\n",
    "base_vinhos_vendas.columns = ['Pais', 'Periodo', 'Venda_valor']\n",
    "\n",
    "# transformando a coluna de período em data ano\n",
    "base_vinhos_vendas['Periodo'] = base_vinhos_vendas['Periodo'].astype('Int64')\n",
    "\n",
    "# transformando a coluna de quantidade em float\n",
    "base_vinhos_vendas['Venda_valor'] = base_vinhos_vendas['Venda_valor'].astype(np.float64)\n",
    "\n",
    "## todos os dados estao corretos\n",
    "      # Pais -- str\n",
    "      # Periodo -- Int64\n",
    "      # Venda_valor -- float64\n",
    "\n",
    "# -------- Exibindo a base depois dos tratamentos ----------\n",
    "\n",
    "display(base_vinhos_vendas.head(5))"
   ]
  },
  {
   "cell_type": "markdown",
   "metadata": {},
   "source": [
    "Agora que temos dois dfs com informações distintas vamos unificar e criar apenas um df"
   ]
  },
  {
   "cell_type": "code",
   "execution_count": 15,
   "metadata": {},
   "outputs": [
    {
     "data": {
      "text/html": [
       "<div>\n",
       "<style scoped>\n",
       "    .dataframe tbody tr th:only-of-type {\n",
       "        vertical-align: middle;\n",
       "    }\n",
       "\n",
       "    .dataframe tbody tr th {\n",
       "        vertical-align: top;\n",
       "    }\n",
       "\n",
       "    .dataframe thead th {\n",
       "        text-align: right;\n",
       "    }\n",
       "</style>\n",
       "<table border=\"1\" class=\"dataframe\">\n",
       "  <thead>\n",
       "    <tr style=\"text-align: right;\">\n",
       "      <th></th>\n",
       "      <th>Pais</th>\n",
       "      <th>Periodo</th>\n",
       "      <th>Venda_volume</th>\n",
       "      <th>Venda_valor</th>\n",
       "    </tr>\n",
       "  </thead>\n",
       "  <tbody>\n",
       "    <tr>\n",
       "      <th>0</th>\n",
       "      <td>Rússia</td>\n",
       "      <td>2007</td>\n",
       "      <td>266400.0</td>\n",
       "      <td>173160.0</td>\n",
       "    </tr>\n",
       "    <tr>\n",
       "      <th>1</th>\n",
       "      <td>Paraguai</td>\n",
       "      <td>2007</td>\n",
       "      <td>1285459.0</td>\n",
       "      <td>801519.0</td>\n",
       "    </tr>\n",
       "    <tr>\n",
       "      <th>2</th>\n",
       "      <td>Estados Unidos</td>\n",
       "      <td>2007</td>\n",
       "      <td>479269.0</td>\n",
       "      <td>810038.0</td>\n",
       "    </tr>\n",
       "    <tr>\n",
       "      <th>3</th>\n",
       "      <td>China</td>\n",
       "      <td>2007</td>\n",
       "      <td>7638.0</td>\n",
       "      <td>30390.0</td>\n",
       "    </tr>\n",
       "    <tr>\n",
       "      <th>4</th>\n",
       "      <td>Espanha</td>\n",
       "      <td>2007</td>\n",
       "      <td>0.0</td>\n",
       "      <td>0.0</td>\n",
       "    </tr>\n",
       "  </tbody>\n",
       "</table>\n",
       "</div>"
      ],
      "text/plain": [
       "             Pais  Periodo  Venda_volume  Venda_valor\n",
       "0          Rússia     2007      266400.0     173160.0\n",
       "1        Paraguai     2007     1285459.0     801519.0\n",
       "2  Estados Unidos     2007      479269.0     810038.0\n",
       "3           China     2007        7638.0      30390.0\n",
       "4         Espanha     2007           0.0          0.0"
      ]
     },
     "metadata": {},
     "output_type": "display_data"
    }
   ],
   "source": [
    "# mesclando df\n",
    "base_vinhos = pd.merge(base_vinhos_qtd, base_vinhos_vendas, how='inner', left_on=['Pais', 'Periodo'], right_on=['Pais', 'Periodo'])\n",
    "\n",
    "# exibindo para ver como ficou o df\n",
    "      # ------- Não rode esse código mais de uma vez para não mesclar em cima do df pronto ----------\n",
    "display(base_vinhos.head(5))"
   ]
  },
  {
   "cell_type": "markdown",
   "metadata": {},
   "source": [
    "### Analisando as vendas por período"
   ]
  },
  {
   "cell_type": "code",
   "execution_count": 17,
   "metadata": {},
   "outputs": [
    {
     "data": {
      "image/png": "[encoded data removed]",
      "text/plain": [
       "<Figure size 2000x400 with 2 Axes>"
      ]
     },
     "metadata": {},
     "output_type": "display_data"
    }
   ],
   "source": [
    "# plotando em um gráfico para analisar\n",
    "\n",
    "#definindo o tamanho das figuras\n",
    "figsize1 = (10, 4)\n",
    "figsize2 = (10, 4)\n",
    "\n",
    "# filtrando os 5 primeiros países\n",
    "top_5_paises = base_vinhos['Pais'].unique()[:5]\n",
    "\n",
    "# criando as figuras e os eixos\n",
    "fig, axes = plt.subplots(1, 2, figsize=(20, 4))\n",
    "\n",
    "# plotando a primeira figura\n",
    "      # iterando os paises para criar linhas diferentes para cada pais, é como se eu colocasse varios graficos por cima e muda apenas a posição da linha\n",
    "for pais in top_5_paises:\n",
    "      dados_pais = base_vinhos[base_vinhos['Pais'] == pais]\n",
    "      axes[0].plot(dados_pais['Periodo'], dados_pais['Venda_volume'])\n",
    "axes[0].set_title('Evolucao volume de vendas nos ultimos 15 anos')\n",
    "axes[0].legend(base_vinhos['Pais'])\n",
    "\n",
    "#plotando a segunda figura\n",
    "      # iterando os paises para criar linhas diferentes para cada pais, é como se eu colocasse varios graficos por cima e muda apenas a posição da linha\n",
    "for pais in top_5_paises:\n",
    "      dados_pais = base_vinhos[base_vinhos['Pais'] == pais]\n",
    "      axes[1].plot(dados_pais['Periodo'], dados_pais['Venda_valor'])\n",
    "axes[1].set_title('Evolucao valor de vendas nos ultimos 15 anos')\n",
    "axes[1].legend(base_vinhos['Pais'])\n",
    "\n",
    "plt.show()"
   ]
  },
  {
   "cell_type": "code",
   "execution_count": 22,
   "metadata": {},
   "outputs": [
    {
     "data": {
      "application/vnd.plotly.v1+json": {
       "config": {
        "plotlyServerURL": "https://plot.ly"
       },
       "data": [
        {
         "alignmentgroup": "True",
         "bingroup": "x",
         "hovertemplate": "Pais=Rússia<br>Venda_valor=%{x}<br>count=%{y}<extra></extra>",
         "legendgroup": "Rússia",
         "marker": {
          "color": "#636efa",
          "pattern": {
           "shape": ""
          }
         },
         "name": "Rússia",
         "offsetgroup": "Rússia",
         "orientation": "v",
         "showlegend": true,
         "type": "histogram",
         "x": [
          173160,
          2352768,
          5732280,
          0,
          0,
          2103968,
          14795694,
          61440,
          18240,
          0,
          0,
          0,
          0,
          8550,
          312926,
          118618
         ],
         "xaxis": "x",
         "yaxis": "y"
        },
        {
         "alignmentgroup": "True",
         "bingroup": "x",
         "hovertemplate": "Pais=Paraguai<br>Venda_valor=%{x}<br>count=%{y}<extra></extra>",
         "legendgroup": "Paraguai",
         "marker": {
          "color": "#EF553B",
          "pattern": {
           "shape": ""
          }
         },
         "name": "Paraguai",
         "offsetgroup": "Paraguai",
         "orientation": "v",
         "showlegend": true,
         "type": "histogram",
         "x": [
          801519,
          1374088,
          392087,
          449197,
          276281,
          428279,
          680828,
          908028,
          741370,
          1655417,
          4274650,
          5494321,
          3826587,
          3869243,
          7192362,
          7156293
         ],
         "xaxis": "x",
         "yaxis": "y"
        },
        {
         "alignmentgroup": "True",
         "bingroup": "x",
         "hovertemplate": "Pais=Estados Unidos<br>Venda_valor=%{x}<br>count=%{y}<extra></extra>",
         "legendgroup": "Estados Unidos",
         "marker": {
          "color": "#00cc96",
          "pattern": {
           "shape": ""
          }
         },
         "name": "Estados Unidos",
         "offsetgroup": "Estados Unidos",
         "orientation": "v",
         "showlegend": true,
         "type": "histogram",
         "x": [
          810038,
          804607,
          660066,
          478630,
          1030254,
          303986,
          786556,
          494216,
          524109,
          687411,
          1523699,
          512519,
          616274,
          610793,
          203554,
          447893
         ],
         "xaxis": "x",
         "yaxis": "y"
        },
        {
         "alignmentgroup": "True",
         "bingroup": "x",
         "hovertemplate": "Pais=China<br>Venda_valor=%{x}<br>count=%{y}<extra></extra>",
         "legendgroup": "China",
         "marker": {
          "color": "#ab63fa",
          "pattern": {
           "shape": ""
          }
         },
         "name": "China",
         "offsetgroup": "China",
         "orientation": "v",
         "showlegend": true,
         "type": "histogram",
         "x": [
          30390,
          25926,
          482400,
          2358,
          334867,
          642177,
          279956,
          455340,
          222866,
          499622,
          266086,
          126336,
          376828,
          363000,
          264116,
          404647
         ],
         "xaxis": "x",
         "yaxis": "y"
        },
        {
         "alignmentgroup": "True",
         "bingroup": "x",
         "hovertemplate": "Pais=Espanha<br>Venda_valor=%{x}<br>count=%{y}<extra></extra>",
         "legendgroup": "Espanha",
         "marker": {
          "color": "#FFA15A",
          "pattern": {
           "shape": ""
          }
         },
         "name": "Espanha",
         "offsetgroup": "Espanha",
         "orientation": "v",
         "showlegend": true,
         "type": "histogram",
         "x": [
          0,
          6834,
          4050,
          0,
          24618,
          0,
          3748940,
          0,
          0,
          0,
          0,
          22631,
          1353,
          126,
          0,
          0
         ],
         "xaxis": "x",
         "yaxis": "y"
        },
        {
         "alignmentgroup": "True",
         "bingroup": "x",
         "hovertemplate": "Pais=Haiti<br>Venda_valor=%{x}<br>count=%{y}<extra></extra>",
         "legendgroup": "Haiti",
         "marker": {
          "color": "#19d3f3",
          "pattern": {
           "shape": ""
          }
         },
         "name": "Haiti",
         "offsetgroup": "Haiti",
         "orientation": "v",
         "showlegend": true,
         "type": "histogram",
         "x": [
          0,
          20,
          5863,
          3750,
          0,
          0,
          0,
          0,
          0,
          0,
          0,
          144425,
          129803,
          471152,
          831181,
          741014
         ],
         "xaxis": "x",
         "yaxis": "y"
        },
        {
         "alignmentgroup": "True",
         "bingroup": "x",
         "hovertemplate": "Pais=Japão<br>Venda_valor=%{x}<br>count=%{y}<extra></extra>",
         "legendgroup": "Japão",
         "marker": {
          "color": "#FF6692",
          "pattern": {
           "shape": ""
          }
         },
         "name": "Japão",
         "offsetgroup": "Japão",
         "orientation": "v",
         "showlegend": true,
         "type": "histogram",
         "x": [
          316867,
          178333,
          283436,
          74628,
          144662,
          116961,
          429088,
          401774,
          87853,
          90954,
          92886,
          112342,
          99642,
          92674,
          90275,
          82208
         ],
         "xaxis": "x",
         "yaxis": "y"
        },
        {
         "alignmentgroup": "True",
         "bingroup": "x",
         "hovertemplate": "Pais=Países Baixos<br>Venda_valor=%{x}<br>count=%{y}<extra></extra>",
         "legendgroup": "Países Baixos",
         "marker": {
          "color": "#B6E880",
          "pattern": {
           "shape": ""
          }
         },
         "name": "Países Baixos",
         "offsetgroup": "Países Baixos",
         "orientation": "v",
         "showlegend": true,
         "type": "histogram",
         "x": [
          364751,
          783635,
          136991,
          302182,
          395356,
          539641,
          255690,
          773767,
          186464,
          190203,
          0,
          32395,
          148031,
          1532,
          8484,
          37240
         ],
         "xaxis": "x",
         "yaxis": "y"
        },
        {
         "alignmentgroup": "True",
         "bingroup": "x",
         "hovertemplate": "Pais=Reino Unido<br>Venda_valor=%{x}<br>count=%{y}<extra></extra>",
         "legendgroup": "Reino Unido",
         "marker": {
          "color": "#FF97FF",
          "pattern": {
           "shape": ""
          }
         },
         "name": "Reino Unido",
         "offsetgroup": "Reino Unido",
         "orientation": "v",
         "showlegend": true,
         "type": "histogram",
         "x": [
          144244,
          155076,
          68788,
          295690,
          285642,
          334856,
          305005,
          1373747,
          308407,
          536681,
          242883,
          296827,
          164592,
          82722,
          122394,
          138154
         ],
         "xaxis": "x",
         "yaxis": "y"
        },
        {
         "alignmentgroup": "True",
         "bingroup": "x",
         "hovertemplate": "Pais=Alemanha, República Democrática<br>Venda_valor=%{x}<br>count=%{y}<extra></extra>",
         "legendgroup": "Alemanha, República Democrática",
         "marker": {
          "color": "#FECB52",
          "pattern": {
           "shape": ""
          }
         },
         "name": "Alemanha, República Democrática",
         "offsetgroup": "Alemanha, República Democrática",
         "orientation": "v",
         "showlegend": true,
         "type": "histogram",
         "x": [
          238052,
          429970,
          393482,
          138666,
          144150,
          56342,
          265978,
          761653,
          44780,
          68109,
          87702,
          45382,
          25467,
          32605,
          6741,
          45367
         ],
         "xaxis": "x",
         "yaxis": "y"
        },
        {
         "alignmentgroup": "True",
         "bingroup": "x",
         "hovertemplate": "Pais=Uruguai<br>Venda_valor=%{x}<br>count=%{y}<extra></extra>",
         "legendgroup": "Uruguai",
         "marker": {
          "color": "#636efa",
          "pattern": {
           "shape": ""
          }
         },
         "name": "Uruguai",
         "offsetgroup": "Uruguai",
         "orientation": "v",
         "showlegend": true,
         "type": "histogram",
         "x": [
          0,
          0,
          0,
          2929,
          4404,
          3879,
          13343,
          0,
          0,
          0,
          0,
          29617,
          18497,
          0,
          149842,
          997367
         ],
         "xaxis": "x",
         "yaxis": "y"
        },
        {
         "alignmentgroup": "True",
         "bingroup": "x",
         "hovertemplate": "Pais=Portugal<br>Venda_valor=%{x}<br>count=%{y}<extra></extra>",
         "legendgroup": "Portugal",
         "marker": {
          "color": "#EF553B",
          "pattern": {
           "shape": ""
          }
         },
         "name": "Portugal",
         "offsetgroup": "Portugal",
         "orientation": "v",
         "showlegend": true,
         "type": "histogram",
         "x": [
          165282,
          48942,
          168923,
          18970,
          1031,
          47022,
          17627,
          79141,
          42586,
          0,
          0,
          0,
          72413,
          34518,
          42633,
          7613
         ],
         "xaxis": "x",
         "yaxis": "y"
        },
        {
         "alignmentgroup": "True",
         "bingroup": "x",
         "hovertemplate": "Pais=Bélgica<br>Venda_valor=%{x}<br>count=%{y}<extra></extra>",
         "legendgroup": "Bélgica",
         "marker": {
          "color": "#00cc96",
          "pattern": {
           "shape": ""
          }
         },
         "name": "Bélgica",
         "offsetgroup": "Bélgica",
         "orientation": "v",
         "showlegend": true,
         "type": "histogram",
         "x": [
          3751,
          12969,
          58764,
          185411,
          62339,
          90718,
          95893,
          704093,
          26399,
          46534,
          16405,
          52799,
          12548,
          20460,
          3749,
          6145
         ],
         "xaxis": "x",
         "yaxis": "y"
        },
        {
         "alignmentgroup": "True",
         "bingroup": "x",
         "hovertemplate": "Pais=França<br>Venda_valor=%{x}<br>count=%{y}<extra></extra>",
         "legendgroup": "França",
         "marker": {
          "color": "#ab63fa",
          "pattern": {
           "shape": ""
          }
         },
         "name": "França",
         "offsetgroup": "França",
         "orientation": "v",
         "showlegend": true,
         "type": "histogram",
         "x": [
          11231,
          27500,
          0,
          18904,
          0,
          185791,
          42256,
          167807,
          4749,
          30055,
          21654,
          48677,
          67072,
          57144,
          23742,
          25008
         ],
         "xaxis": "x",
         "yaxis": "y"
        },
        {
         "alignmentgroup": "True",
         "bingroup": "x",
         "hovertemplate": "Pais=Austrália<br>Venda_valor=%{x}<br>count=%{y}<extra></extra>",
         "legendgroup": "Austrália",
         "marker": {
          "color": "#FFA15A",
          "pattern": {
           "shape": ""
          }
         },
         "name": "Austrália",
         "offsetgroup": "Austrália",
         "orientation": "v",
         "showlegend": true,
         "type": "histogram",
         "x": [
          281,
          99280,
          9195,
          17960,
          40704,
          56045,
          101715,
          43709,
          48011,
          13799,
          7500,
          6902,
          4682,
          3413,
          4034,
          12299
         ],
         "xaxis": "x",
         "yaxis": "y"
        },
        {
         "alignmentgroup": "True",
         "bingroup": "x",
         "hovertemplate": "Pais=Cuba<br>Venda_valor=%{x}<br>count=%{y}<extra></extra>",
         "legendgroup": "Cuba",
         "marker": {
          "color": "#19d3f3",
          "pattern": {
           "shape": ""
          }
         },
         "name": "Cuba",
         "offsetgroup": "Cuba",
         "orientation": "v",
         "showlegend": true,
         "type": "histogram",
         "x": [
          5118,
          0,
          0,
          0,
          4899,
          0,
          0,
          43200,
          108864,
          69830,
          72229,
          5584,
          0,
          0,
          0,
          6
         ],
         "xaxis": "x",
         "yaxis": "y"
        },
        {
         "alignmentgroup": "True",
         "bingroup": "x",
         "hovertemplate": "Pais=Bolívia<br>Venda_valor=%{x}<br>count=%{y}<extra></extra>",
         "legendgroup": "Bolívia",
         "marker": {
          "color": "#FF6692",
          "pattern": {
           "shape": ""
          }
         },
         "name": "Bolívia",
         "offsetgroup": "Bolívia",
         "orientation": "v",
         "showlegend": true,
         "type": "histogram",
         "x": [
          3550,
          3990,
          20729,
          282,
          20215,
          16804,
          25998,
          18303,
          12990,
          16902,
          23085,
          57424,
          0,
          16025,
          8360,
          49011
         ],
         "xaxis": "x",
         "yaxis": "y"
        },
        {
         "alignmentgroup": "True",
         "bingroup": "x",
         "hovertemplate": "Pais=Canadá<br>Venda_valor=%{x}<br>count=%{y}<extra></extra>",
         "legendgroup": "Canadá",
         "marker": {
          "color": "#B6E880",
          "pattern": {
           "shape": ""
          }
         },
         "name": "Canadá",
         "offsetgroup": "Canadá",
         "orientation": "v",
         "showlegend": true,
         "type": "histogram",
         "x": [
          18838,
          80476,
          73445,
          0,
          128076,
          146035,
          174643,
          226875,
          118394,
          71096,
          30658,
          20414,
          6933,
          8431,
          6157,
          5784
         ],
         "xaxis": "x",
         "yaxis": "y"
        },
        {
         "alignmentgroup": "True",
         "bingroup": "x",
         "hovertemplate": "Pais=Angola<br>Venda_valor=%{x}<br>count=%{y}<extra></extra>",
         "legendgroup": "Angola",
         "marker": {
          "color": "#FF97FF",
          "pattern": {
           "shape": ""
          }
         },
         "name": "Angola",
         "offsetgroup": "Angola",
         "orientation": "v",
         "showlegend": true,
         "type": "histogram",
         "x": [
          49753,
          71083,
          84235,
          189891,
          69001,
          8861,
          9300,
          23124,
          17089,
          35390,
          61680,
          709,
          1065,
          0,
          0,
          4761
         ],
         "xaxis": "x",
         "yaxis": "y"
        },
        {
         "alignmentgroup": "True",
         "bingroup": "x",
         "hovertemplate": "Pais=Curaçao<br>Venda_valor=%{x}<br>count=%{y}<extra></extra>",
         "legendgroup": "Curaçao",
         "marker": {
          "color": "#FECB52",
          "pattern": {
           "shape": ""
          }
         },
         "name": "Curaçao",
         "offsetgroup": "Curaçao",
         "orientation": "v",
         "showlegend": true,
         "type": "histogram",
         "x": [
          0,
          0,
          0,
          0,
          0,
          0,
          0,
          0,
          0,
          0,
          23011,
          43676,
          62067,
          65986,
          58993,
          66950
         ],
         "xaxis": "x",
         "yaxis": "y"
        },
        {
         "alignmentgroup": "True",
         "bingroup": "x",
         "hovertemplate": "Pais=Suíça<br>Venda_valor=%{x}<br>count=%{y}<extra></extra>",
         "legendgroup": "Suíça",
         "marker": {
          "color": "#636efa",
          "pattern": {
           "shape": ""
          }
         },
         "name": "Suíça",
         "offsetgroup": "Suíça",
         "orientation": "v",
         "showlegend": true,
         "type": "histogram",
         "x": [
          70716,
          216317,
          81319,
          21600,
          0,
          47240,
          29785,
          231762,
          85790,
          33340,
          74816,
          0,
          28503,
          27930,
          6999,
          20863
         ],
         "xaxis": "x",
         "yaxis": "y"
        },
        {
         "alignmentgroup": "True",
         "bingroup": "x",
         "hovertemplate": "Pais=Nigéria<br>Venda_valor=%{x}<br>count=%{y}<extra></extra>",
         "legendgroup": "Nigéria",
         "marker": {
          "color": "#EF553B",
          "pattern": {
           "shape": ""
          }
         },
         "name": "Nigéria",
         "offsetgroup": "Nigéria",
         "orientation": "v",
         "showlegend": true,
         "type": "histogram",
         "x": [
          0,
          10920,
          115,
          0,
          210,
          10196,
          2245,
          0,
          0,
          0,
          0,
          6250,
          38555,
          26514,
          113172,
          50283
         ],
         "xaxis": "x",
         "yaxis": "y"
        },
        {
         "alignmentgroup": "True",
         "bingroup": "x",
         "hovertemplate": "Pais=Polônia<br>Venda_valor=%{x}<br>count=%{y}<extra></extra>",
         "legendgroup": "Polônia",
         "marker": {
          "color": "#00cc96",
          "pattern": {
           "shape": ""
          }
         },
         "name": "Polônia",
         "offsetgroup": "Polônia",
         "orientation": "v",
         "showlegend": true,
         "type": "histogram",
         "x": [
          0,
          58353,
          35797,
          95198,
          50684,
          89158,
          90960,
          107957,
          42781,
          35402,
          0,
          4679,
          11,
          86,
          14,
          0
         ],
         "xaxis": "x",
         "yaxis": "y"
        },
        {
         "alignmentgroup": "True",
         "bingroup": "x",
         "hovertemplate": "Pais=Tcheca, República<br>Venda_valor=%{x}<br>count=%{y}<extra></extra>",
         "legendgroup": "Tcheca, República",
         "marker": {
          "color": "#ab63fa",
          "pattern": {
           "shape": ""
          }
         },
         "name": "Tcheca, República",
         "offsetgroup": "Tcheca, República",
         "orientation": "v",
         "showlegend": true,
         "type": "histogram",
         "x": [
          189620,
          64709,
          43902,
          5285,
          37271,
          27789,
          23549,
          35005,
          15304,
          28473,
          16947,
          20980,
          16391,
          4805,
          5988,
          9997
         ],
         "xaxis": "x",
         "yaxis": "y"
        },
        {
         "alignmentgroup": "True",
         "bingroup": "x",
         "hovertemplate": "Pais=Hong Kong<br>Venda_valor=%{x}<br>count=%{y}<extra></extra>",
         "legendgroup": "Hong Kong",
         "marker": {
          "color": "#FFA15A",
          "pattern": {
           "shape": ""
          }
         },
         "name": "Hong Kong",
         "offsetgroup": "Hong Kong",
         "orientation": "v",
         "showlegend": true,
         "type": "histogram",
         "x": [
          0,
          13460,
          27188,
          0,
          7975,
          7653,
          61224,
          63534,
          7837,
          86199,
          8180,
          9029,
          42020,
          41987,
          39390,
          38218
         ],
         "xaxis": "x",
         "yaxis": "y"
        },
        {
         "alignmentgroup": "True",
         "bingroup": "x",
         "hovertemplate": "Pais=Antilhas Holandesas<br>Venda_valor=%{x}<br>count=%{y}<extra></extra>",
         "legendgroup": "Antilhas Holandesas",
         "marker": {
          "color": "#19d3f3",
          "pattern": {
           "shape": ""
          }
         },
         "name": "Antilhas Holandesas",
         "offsetgroup": "Antilhas Holandesas",
         "orientation": "v",
         "showlegend": true,
         "type": "histogram",
         "x": [
          17949,
          22908,
          10651,
          12808,
          10188,
          14081,
          19565,
          7169,
          10545,
          26450,
          8550,
          0,
          0,
          0,
          0,
          0
         ],
         "xaxis": "x",
         "yaxis": "y"
        },
        {
         "alignmentgroup": "True",
         "bingroup": "x",
         "hovertemplate": "Pais=Estônia<br>Venda_valor=%{x}<br>count=%{y}<extra></extra>",
         "legendgroup": "Estônia",
         "marker": {
          "color": "#FF6692",
          "pattern": {
           "shape": ""
          }
         },
         "name": "Estônia",
         "offsetgroup": "Estônia",
         "orientation": "v",
         "showlegend": true,
         "type": "histogram",
         "x": [
          54056,
          9730,
          10802,
          40778,
          5336,
          19384,
          0,
          0,
          0,
          4800,
          0,
          0,
          0,
          0,
          0,
          0
         ],
         "xaxis": "x",
         "yaxis": "y"
        },
        {
         "alignmentgroup": "True",
         "bingroup": "x",
         "hovertemplate": "Pais=Gana<br>Venda_valor=%{x}<br>count=%{y}<extra></extra>",
         "legendgroup": "Gana",
         "marker": {
          "color": "#B6E880",
          "pattern": {
           "shape": ""
          }
         },
         "name": "Gana",
         "offsetgroup": "Gana",
         "orientation": "v",
         "showlegend": true,
         "type": "histogram",
         "x": [
          0,
          25642,
          0,
          0,
          0,
          0,
          0,
          0,
          0,
          0,
          0,
          13502,
          10010,
          22027,
          19196,
          49304
         ],
         "xaxis": "x",
         "yaxis": "y"
        },
        {
         "alignmentgroup": "True",
         "bingroup": "x",
         "hovertemplate": "Pais=Suécia<br>Venda_valor=%{x}<br>count=%{y}<extra></extra>",
         "legendgroup": "Suécia",
         "marker": {
          "color": "#FF97FF",
          "pattern": {
           "shape": ""
          }
         },
         "name": "Suécia",
         "offsetgroup": "Suécia",
         "orientation": "v",
         "showlegend": true,
         "type": "histogram",
         "x": [
          2448,
          84564,
          52826,
          0,
          14476,
          17280,
          20183,
          51057,
          6404,
          1214,
          64953,
          34563,
          761,
          24,
          74,
          18
         ],
         "xaxis": "x",
         "yaxis": "y"
        },
        {
         "alignmentgroup": "True",
         "bingroup": "x",
         "hovertemplate": "Pais=Finlândia<br>Venda_valor=%{x}<br>count=%{y}<extra></extra>",
         "legendgroup": "Finlândia",
         "marker": {
          "color": "#FECB52",
          "pattern": {
           "shape": ""
          }
         },
         "name": "Finlândia",
         "offsetgroup": "Finlândia",
         "orientation": "v",
         "showlegend": true,
         "type": "histogram",
         "x": [
          0,
          0,
          0,
          0,
          50394,
          67959,
          283114,
          94962,
          0,
          41003,
          0,
          0,
          0,
          0,
          0,
          0
         ],
         "xaxis": "x",
         "yaxis": "y"
        },
        {
         "alignmentgroup": "True",
         "bingroup": "x",
         "hovertemplate": "Pais=Chile<br>Venda_valor=%{x}<br>count=%{y}<extra></extra>",
         "legendgroup": "Chile",
         "marker": {
          "color": "#636efa",
          "pattern": {
           "shape": ""
          }
         },
         "name": "Chile",
         "offsetgroup": "Chile",
         "orientation": "v",
         "showlegend": true,
         "type": "histogram",
         "x": [
          67353,
          0,
          4297,
          0,
          0,
          15438,
          0,
          0,
          0,
          0,
          0,
          42832,
          0,
          13,
          6,
          7986
         ],
         "xaxis": "x",
         "yaxis": "y"
        },
        {
         "alignmentgroup": "True",
         "bingroup": "x",
         "hovertemplate": "Pais=Taiwan (FORMOSA)<br>Venda_valor=%{x}<br>count=%{y}<extra></extra>",
         "legendgroup": "Taiwan (FORMOSA)",
         "marker": {
          "color": "#EF553B",
          "pattern": {
           "shape": ""
          }
         },
         "name": "Taiwan (FORMOSA)",
         "offsetgroup": "Taiwan (FORMOSA)",
         "orientation": "v",
         "showlegend": true,
         "type": "histogram",
         "x": [
          11214,
          18679,
          0,
          0,
          10600,
          0,
          0,
          67907,
          23940,
          80379,
          43954,
          18421,
          67,
          4673,
          8153,
          277
         ],
         "xaxis": "x",
         "yaxis": "y"
        },
        {
         "alignmentgroup": "True",
         "bingroup": "x",
         "hovertemplate": "Pais=Dinamarca<br>Venda_valor=%{x}<br>count=%{y}<extra></extra>",
         "legendgroup": "Dinamarca",
         "marker": {
          "color": "#00cc96",
          "pattern": {
           "shape": ""
          }
         },
         "name": "Dinamarca",
         "offsetgroup": "Dinamarca",
         "orientation": "v",
         "showlegend": true,
         "type": "histogram",
         "x": [
          11176,
          15905,
          21780,
          69161,
          83057,
          23802,
          101915,
          16871,
          29306,
          8171,
          2829,
          0,
          306,
          1962,
          504,
          6
         ],
         "xaxis": "x",
         "yaxis": "y"
        },
        {
         "alignmentgroup": "True",
         "bingroup": "x",
         "hovertemplate": "Pais=Venezuela<br>Venda_valor=%{x}<br>count=%{y}<extra></extra>",
         "legendgroup": "Venezuela",
         "marker": {
          "color": "#ab63fa",
          "pattern": {
           "shape": ""
          }
         },
         "name": "Venezuela",
         "offsetgroup": "Venezuela",
         "orientation": "v",
         "showlegend": true,
         "type": "histogram",
         "x": [
          27370,
          0,
          0,
          0,
          0,
          7492,
          0,
          232,
          0,
          0,
          2646,
          355,
          0,
          9808,
          35944,
          32351
         ],
         "xaxis": "x",
         "yaxis": "y"
        },
        {
         "alignmentgroup": "True",
         "bingroup": "x",
         "hovertemplate": "Pais=Luxemburgo<br>Venda_valor=%{x}<br>count=%{y}<extra></extra>",
         "legendgroup": "Luxemburgo",
         "marker": {
          "color": "#FFA15A",
          "pattern": {
           "shape": ""
          }
         },
         "name": "Luxemburgo",
         "offsetgroup": "Luxemburgo",
         "orientation": "v",
         "showlegend": true,
         "type": "histogram",
         "x": [
          2033,
          42341,
          42124,
          32549,
          65592,
          16547,
          29474,
          52400,
          17358,
          21426,
          21947,
          11053,
          11211,
          5110,
          0,
          802
         ],
         "xaxis": "x",
         "yaxis": "y"
        },
        {
         "alignmentgroup": "True",
         "bingroup": "x",
         "hovertemplate": "Pais=Panamá<br>Venda_valor=%{x}<br>count=%{y}<extra></extra>",
         "legendgroup": "Panamá",
         "marker": {
          "color": "#19d3f3",
          "pattern": {
           "shape": ""
          }
         },
         "name": "Panamá",
         "offsetgroup": "Panamá",
         "orientation": "v",
         "showlegend": true,
         "type": "histogram",
         "x": [
          1030,
          1882,
          30,
          0,
          0,
          2262,
          0,
          0,
          0,
          0,
          0,
          3117,
          29017,
          28372,
          48444,
          49392
         ],
         "xaxis": "x",
         "yaxis": "y"
        },
        {
         "alignmentgroup": "True",
         "bingroup": "x",
         "hovertemplate": "Pais=Argentina<br>Venda_valor=%{x}<br>count=%{y}<extra></extra>",
         "legendgroup": "Argentina",
         "marker": {
          "color": "#FF6692",
          "pattern": {
           "shape": ""
          }
         },
         "name": "Argentina",
         "offsetgroup": "Argentina",
         "orientation": "v",
         "showlegend": true,
         "type": "histogram",
         "x": [
          0,
          0,
          4523,
          0,
          55460,
          0,
          0,
          95130,
          0,
          0,
          0,
          59150,
          0,
          4176,
          13,
          3232
         ],
         "xaxis": "x",
         "yaxis": "y"
        },
        {
         "alignmentgroup": "True",
         "bingroup": "x",
         "hovertemplate": "Pais=Noruega<br>Venda_valor=%{x}<br>count=%{y}<extra></extra>",
         "legendgroup": "Noruega",
         "marker": {
          "color": "#B6E880",
          "pattern": {
           "shape": ""
          }
         },
         "name": "Noruega",
         "offsetgroup": "Noruega",
         "orientation": "v",
         "showlegend": true,
         "type": "histogram",
         "x": [
          10044,
          0,
          0,
          0,
          78688,
          31515,
          19008,
          50464,
          6021,
          0,
          0,
          9847,
          3139,
          15134,
          8320,
          40316
         ],
         "xaxis": "x",
         "yaxis": "y"
        },
        {
         "alignmentgroup": "True",
         "bingroup": "x",
         "hovertemplate": "Pais=Colômbia<br>Venda_valor=%{x}<br>count=%{y}<extra></extra>",
         "legendgroup": "Colômbia",
         "marker": {
          "color": "#FF97FF",
          "pattern": {
           "shape": ""
          }
         },
         "name": "Colômbia",
         "offsetgroup": "Colômbia",
         "orientation": "v",
         "showlegend": true,
         "type": "histogram",
         "x": [
          0,
          0,
          0,
          0,
          0,
          0,
          30,
          0,
          0,
          0,
          0,
          26273,
          1999,
          23780,
          21867,
          14068
         ],
         "xaxis": "x",
         "yaxis": "y"
        },
        {
         "alignmentgroup": "True",
         "bingroup": "x",
         "hovertemplate": "Pais=Cingapura<br>Venda_valor=%{x}<br>count=%{y}<extra></extra>",
         "legendgroup": "Cingapura",
         "marker": {
          "color": "#FECB52",
          "pattern": {
           "shape": ""
          }
         },
         "name": "Cingapura",
         "offsetgroup": "Cingapura",
         "orientation": "v",
         "showlegend": true,
         "type": "histogram",
         "x": [
          17864,
          4699,
          6110,
          5504,
          3317,
          5310,
          5779,
          3887,
          2774,
          13199,
          0,
          11616,
          19099,
          9316,
          0,
          0
         ],
         "xaxis": "x",
         "yaxis": "y"
        },
        {
         "alignmentgroup": "True",
         "bingroup": "x",
         "hovertemplate": "Pais=Itália<br>Venda_valor=%{x}<br>count=%{y}<extra></extra>",
         "legendgroup": "Itália",
         "marker": {
          "color": "#636efa",
          "pattern": {
           "shape": ""
          }
         },
         "name": "Itália",
         "offsetgroup": "Itália",
         "orientation": "v",
         "showlegend": true,
         "type": "histogram",
         "x": [
          19860,
          0,
          5251,
          4828,
          80298,
          5622,
          11967,
          2492,
          0,
          3465,
          2248,
          13260,
          1625,
          376,
          3715,
          6151
         ],
         "xaxis": "x",
         "yaxis": "y"
        },
        {
         "alignmentgroup": "True",
         "bingroup": "x",
         "hovertemplate": "Pais=Marshall, Ilhas<br>Venda_valor=%{x}<br>count=%{y}<extra></extra>",
         "legendgroup": "Marshall, Ilhas",
         "marker": {
          "color": "#EF553B",
          "pattern": {
           "shape": ""
          }
         },
         "name": "Marshall, Ilhas",
         "offsetgroup": "Marshall, Ilhas",
         "orientation": "v",
         "showlegend": true,
         "type": "histogram",
         "x": [
          0,
          0,
          0,
          0,
          0,
          0,
          0,
          0,
          0,
          0,
          0,
          2436,
          15786,
          19639,
          22561,
          27178
         ],
         "xaxis": "x",
         "yaxis": "y"
        },
        {
         "alignmentgroup": "True",
         "bingroup": "x",
         "hovertemplate": "Pais=Suriname<br>Venda_valor=%{x}<br>count=%{y}<extra></extra>",
         "legendgroup": "Suriname",
         "marker": {
          "color": "#00cc96",
          "pattern": {
           "shape": ""
          }
         },
         "name": "Suriname",
         "offsetgroup": "Suriname",
         "orientation": "v",
         "showlegend": true,
         "type": "histogram",
         "x": [
          4603,
          1625,
          12918,
          1269,
          3735,
          1288,
          2960,
          19,
          713,
          1375,
          5638,
          0,
          4741,
          5277,
          1472,
          3360
         ],
         "xaxis": "x",
         "yaxis": "y"
        },
        {
         "alignmentgroup": "True",
         "bingroup": "x",
         "hovertemplate": "Pais=Libéria<br>Venda_valor=%{x}<br>count=%{y}<extra></extra>",
         "legendgroup": "Libéria",
         "marker": {
          "color": "#ab63fa",
          "pattern": {
           "shape": ""
          }
         },
         "name": "Libéria",
         "offsetgroup": "Libéria",
         "orientation": "v",
         "showlegend": true,
         "type": "histogram",
         "x": [
          0,
          0,
          0,
          0,
          0,
          0,
          0,
          0,
          0,
          0,
          0,
          3100,
          20068,
          17624,
          23060,
          34815
         ],
         "xaxis": "x",
         "yaxis": "y"
        },
        {
         "alignmentgroup": "True",
         "bingroup": "x",
         "hovertemplate": "Pais=Peru<br>Venda_valor=%{x}<br>count=%{y}<extra></extra>",
         "legendgroup": "Peru",
         "marker": {
          "color": "#FFA15A",
          "pattern": {
           "shape": ""
          }
         },
         "name": "Peru",
         "offsetgroup": "Peru",
         "orientation": "v",
         "showlegend": true,
         "type": "histogram",
         "x": [
          0,
          0,
          0,
          0,
          0,
          0,
          0,
          0,
          0,
          0,
          0,
          19372,
          17310,
          0,
          17107,
          0
         ],
         "xaxis": "x",
         "yaxis": "y"
        },
        {
         "alignmentgroup": "True",
         "bingroup": "x",
         "hovertemplate": "Pais=Togo<br>Venda_valor=%{x}<br>count=%{y}<extra></extra>",
         "legendgroup": "Togo",
         "marker": {
          "color": "#19d3f3",
          "pattern": {
           "shape": ""
          }
         },
         "name": "Togo",
         "offsetgroup": "Togo",
         "orientation": "v",
         "showlegend": true,
         "type": "histogram",
         "x": [
          11,
          7800,
          0,
          0,
          0,
          0,
          0,
          0,
          0,
          0,
          0,
          0,
          0,
          0,
          2012,
          25608
         ],
         "xaxis": "x",
         "yaxis": "y"
        },
        {
         "alignmentgroup": "True",
         "bingroup": "x",
         "hovertemplate": "Pais=Serra Leoa<br>Venda_valor=%{x}<br>count=%{y}<extra></extra>",
         "legendgroup": "Serra Leoa",
         "marker": {
          "color": "#FF6692",
          "pattern": {
           "shape": ""
          }
         },
         "name": "Serra Leoa",
         "offsetgroup": "Serra Leoa",
         "orientation": "v",
         "showlegend": true,
         "type": "histogram",
         "x": [
          0,
          0,
          0,
          0,
          0,
          0,
          0,
          0,
          0,
          0,
          0,
          0,
          717,
          13050,
          12955,
          15182
         ],
         "xaxis": "x",
         "yaxis": "y"
        },
        {
         "alignmentgroup": "True",
         "bingroup": "x",
         "hovertemplate": "Pais=Guine Equatorial<br>Venda_valor=%{x}<br>count=%{y}<extra></extra>",
         "legendgroup": "Guine Equatorial",
         "marker": {
          "color": "#B6E880",
          "pattern": {
           "shape": ""
          }
         },
         "name": "Guine Equatorial",
         "offsetgroup": "Guine Equatorial",
         "orientation": "v",
         "showlegend": true,
         "type": "histogram",
         "x": [
          0,
          1417,
          272,
          1015,
          1979,
          2530,
          5336,
          11983,
          0,
          0,
          30563,
          26808,
          0,
          0,
          0,
          0
         ],
         "xaxis": "x",
         "yaxis": "y"
        },
        {
         "alignmentgroup": "True",
         "bingroup": "x",
         "hovertemplate": "Pais=Guatemala<br>Venda_valor=%{x}<br>count=%{y}<extra></extra>",
         "legendgroup": "Guatemala",
         "marker": {
          "color": "#FF97FF",
          "pattern": {
           "shape": ""
          }
         },
         "name": "Guatemala",
         "offsetgroup": "Guatemala",
         "orientation": "v",
         "showlegend": true,
         "type": "histogram",
         "x": [
          0,
          0,
          20,
          0,
          0,
          0,
          0,
          0,
          0,
          0,
          0,
          0,
          8719,
          0,
          29100,
          5350
         ],
         "xaxis": "x",
         "yaxis": "y"
        },
        {
         "alignmentgroup": "True",
         "bingroup": "x",
         "hovertemplate": "Pais=Quênia<br>Venda_valor=%{x}<br>count=%{y}<extra></extra>",
         "legendgroup": "Quênia",
         "marker": {
          "color": "#FECB52",
          "pattern": {
           "shape": ""
          }
         },
         "name": "Quênia",
         "offsetgroup": "Quênia",
         "orientation": "v",
         "showlegend": true,
         "type": "histogram",
         "x": [
          13860,
          0,
          0,
          0,
          0,
          458,
          4,
          0,
          0,
          0,
          0,
          31225,
          0,
          0,
          0,
          2080
         ],
         "xaxis": "x",
         "yaxis": "y"
        },
        {
         "alignmentgroup": "True",
         "bingroup": "x",
         "hovertemplate": "Pais=Emirados Arabes Unidos<br>Venda_valor=%{x}<br>count=%{y}<extra></extra>",
         "legendgroup": "Emirados Arabes Unidos",
         "marker": {
          "color": "#636efa",
          "pattern": {
           "shape": ""
          }
         },
         "name": "Emirados Arabes Unidos",
         "offsetgroup": "Emirados Arabes Unidos",
         "orientation": "v",
         "showlegend": true,
         "type": "histogram",
         "x": [
          0,
          12298,
          4032,
          3206,
          6594,
          3300,
          0,
          3381,
          3740,
          2760,
          3302,
          1762,
          2202,
          2279,
          10522,
          85465
         ],
         "xaxis": "x",
         "yaxis": "y"
        },
        {
         "alignmentgroup": "True",
         "bingroup": "x",
         "hovertemplate": "Pais=Irlanda<br>Venda_valor=%{x}<br>count=%{y}<extra></extra>",
         "legendgroup": "Irlanda",
         "marker": {
          "color": "#EF553B",
          "pattern": {
           "shape": ""
          }
         },
         "name": "Irlanda",
         "offsetgroup": "Irlanda",
         "orientation": "v",
         "showlegend": true,
         "type": "histogram",
         "x": [
          0,
          0,
          0,
          42795,
          35690,
          0,
          0,
          0,
          0,
          0,
          0,
          25767,
          0,
          257,
          208,
          0
         ],
         "xaxis": "x",
         "yaxis": "y"
        },
        {
         "alignmentgroup": "True",
         "bingroup": "x",
         "hovertemplate": "Pais=Benin<br>Venda_valor=%{x}<br>count=%{y}<extra></extra>",
         "legendgroup": "Benin",
         "marker": {
          "color": "#00cc96",
          "pattern": {
           "shape": ""
          }
         },
         "name": "Benin",
         "offsetgroup": "Benin",
         "orientation": "v",
         "showlegend": true,
         "type": "histogram",
         "x": [
          0,
          17423,
          0,
          0,
          0,
          0,
          0,
          0,
          0,
          20333,
          0,
          0,
          9,
          0,
          0,
          0
         ],
         "xaxis": "x",
         "yaxis": "y"
        },
        {
         "alignmentgroup": "True",
         "bingroup": "x",
         "hovertemplate": "Pais=Filipinas<br>Venda_valor=%{x}<br>count=%{y}<extra></extra>",
         "legendgroup": "Filipinas",
         "marker": {
          "color": "#ab63fa",
          "pattern": {
           "shape": ""
          }
         },
         "name": "Filipinas",
         "offsetgroup": "Filipinas",
         "orientation": "v",
         "showlegend": true,
         "type": "histogram",
         "x": [
          0,
          0,
          0,
          0,
          0,
          0,
          0,
          0,
          0,
          0,
          0,
          16205,
          2486,
          1548,
          10368,
          790
         ],
         "xaxis": "x",
         "yaxis": "y"
        },
        {
         "alignmentgroup": "True",
         "bingroup": "x",
         "hovertemplate": "Pais=Malta<br>Venda_valor=%{x}<br>count=%{y}<extra></extra>",
         "legendgroup": "Malta",
         "marker": {
          "color": "#FFA15A",
          "pattern": {
           "shape": ""
          }
         },
         "name": "Malta",
         "offsetgroup": "Malta",
         "orientation": "v",
         "showlegend": true,
         "type": "histogram",
         "x": [
          0,
          0,
          0,
          0,
          0,
          0,
          0,
          0,
          0,
          0,
          0,
          1192,
          8828,
          9688,
          15454,
          15587
         ],
         "xaxis": "x",
         "yaxis": "y"
        },
        {
         "alignmentgroup": "True",
         "bingroup": "x",
         "hovertemplate": "Pais=Bahamas<br>Venda_valor=%{x}<br>count=%{y}<extra></extra>",
         "legendgroup": "Bahamas",
         "marker": {
          "color": "#19d3f3",
          "pattern": {
           "shape": ""
          }
         },
         "name": "Bahamas",
         "offsetgroup": "Bahamas",
         "orientation": "v",
         "showlegend": true,
         "type": "histogram",
         "x": [
          0,
          0,
          0,
          12759,
          28810,
          12087,
          5145,
          0,
          0,
          0,
          0,
          634,
          3124,
          3703,
          4567,
          5799
         ],
         "xaxis": "x",
         "yaxis": "y"
        },
        {
         "alignmentgroup": "True",
         "bingroup": "x",
         "hovertemplate": "Pais=Nova Zelândia<br>Venda_valor=%{x}<br>count=%{y}<extra></extra>",
         "legendgroup": "Nova Zelândia",
         "marker": {
          "color": "#FF6692",
          "pattern": {
           "shape": ""
          }
         },
         "name": "Nova Zelândia",
         "offsetgroup": "Nova Zelândia",
         "orientation": "v",
         "showlegend": true,
         "type": "histogram",
         "x": [
          0,
          0,
          0,
          0,
          7992,
          8817,
          4092,
          13675,
          3476,
          9472,
          8140,
          5565,
          2832,
          515,
          10477,
          156
         ],
         "xaxis": "x",
         "yaxis": "y"
        },
        {
         "alignmentgroup": "True",
         "bingroup": "x",
         "hovertemplate": "Pais=Catar<br>Venda_valor=%{x}<br>count=%{y}<extra></extra>",
         "legendgroup": "Catar",
         "marker": {
          "color": "#B6E880",
          "pattern": {
           "shape": ""
          }
         },
         "name": "Catar",
         "offsetgroup": "Catar",
         "orientation": "v",
         "showlegend": true,
         "type": "histogram",
         "x": [
          0,
          0,
          0,
          0,
          0,
          0,
          0,
          0,
          0,
          0,
          81606,
          0,
          0,
          0,
          2,
          0
         ],
         "xaxis": "x",
         "yaxis": "y"
        },
        {
         "alignmentgroup": "True",
         "bingroup": "x",
         "hovertemplate": "Pais=Cabo Verde<br>Venda_valor=%{x}<br>count=%{y}<extra></extra>",
         "legendgroup": "Cabo Verde",
         "marker": {
          "color": "#FF97FF",
          "pattern": {
           "shape": ""
          }
         },
         "name": "Cabo Verde",
         "offsetgroup": "Cabo Verde",
         "orientation": "v",
         "showlegend": true,
         "type": "histogram",
         "x": [
          0,
          0,
          0,
          49366,
          825,
          0,
          0,
          0,
          0,
          0,
          0,
          48,
          0,
          0,
          124,
          0
         ],
         "xaxis": "x",
         "yaxis": "y"
        },
        {
         "alignmentgroup": "True",
         "bingroup": "x",
         "hovertemplate": "Pais=Vietnã<br>Venda_valor=%{x}<br>count=%{y}<extra></extra>",
         "legendgroup": "Vietnã",
         "marker": {
          "color": "#FECB52",
          "pattern": {
           "shape": ""
          }
         },
         "name": "Vietnã",
         "offsetgroup": "Vietnã",
         "orientation": "v",
         "showlegend": true,
         "type": "histogram",
         "x": [
          0,
          0,
          2143,
          9977,
          0,
          0,
          0,
          0,
          0,
          0,
          0,
          0,
          32,
          584,
          0,
          277
         ],
         "xaxis": "x",
         "yaxis": "y"
        },
        {
         "alignmentgroup": "True",
         "bingroup": "x",
         "hovertemplate": "Pais=Grécia<br>Venda_valor=%{x}<br>count=%{y}<extra></extra>",
         "legendgroup": "Grécia",
         "marker": {
          "color": "#636efa",
          "pattern": {
           "shape": ""
          }
         },
         "name": "Grécia",
         "offsetgroup": "Grécia",
         "orientation": "v",
         "showlegend": true,
         "type": "histogram",
         "x": [
          0,
          0,
          0,
          0,
          0,
          0,
          0,
          0,
          0,
          0,
          0,
          730,
          1994,
          18092,
          3014,
          2426
         ],
         "xaxis": "x",
         "yaxis": "y"
        },
        {
         "alignmentgroup": "True",
         "bingroup": "x",
         "hovertemplate": "Pais=Singapura<br>Venda_valor=%{x}<br>count=%{y}<extra></extra>",
         "legendgroup": "Singapura",
         "marker": {
          "color": "#EF553B",
          "pattern": {
           "shape": ""
          }
         },
         "name": "Singapura",
         "offsetgroup": "Singapura",
         "orientation": "v",
         "showlegend": true,
         "type": "histogram",
         "x": [
          0,
          0,
          0,
          0,
          0,
          0,
          0,
          0,
          0,
          0,
          0,
          0,
          0,
          0,
          14346,
          15434
         ],
         "xaxis": "x",
         "yaxis": "y"
        },
        {
         "alignmentgroup": "True",
         "bingroup": "x",
         "hovertemplate": "Pais=México<br>Venda_valor=%{x}<br>count=%{y}<extra></extra>",
         "legendgroup": "México",
         "marker": {
          "color": "#00cc96",
          "pattern": {
           "shape": ""
          }
         },
         "name": "México",
         "offsetgroup": "México",
         "orientation": "v",
         "showlegend": true,
         "type": "histogram",
         "x": [
          15425,
          0,
          0,
          0,
          7200,
          0,
          0,
          24336,
          0,
          0,
          2292,
          9744,
          4,
          226,
          2,
          33
         ],
         "xaxis": "x",
         "yaxis": "y"
        },
        {
         "alignmentgroup": "True",
         "bingroup": "x",
         "hovertemplate": "Pais=Nova Caledônia<br>Venda_valor=%{x}<br>count=%{y}<extra></extra>",
         "legendgroup": "Nova Caledônia",
         "marker": {
          "color": "#ab63fa",
          "pattern": {
           "shape": ""
          }
         },
         "name": "Nova Caledônia",
         "offsetgroup": "Nova Caledônia",
         "orientation": "v",
         "showlegend": true,
         "type": "histogram",
         "x": [
          0,
          0,
          0,
          0,
          0,
          0,
          0,
          0,
          0,
          0,
          0,
          0,
          0,
          0,
          11924,
          0
         ],
         "xaxis": "x",
         "yaxis": "y"
        },
        {
         "alignmentgroup": "True",
         "bingroup": "x",
         "hovertemplate": "Pais=Chipre<br>Venda_valor=%{x}<br>count=%{y}<extra></extra>",
         "legendgroup": "Chipre",
         "marker": {
          "color": "#FFA15A",
          "pattern": {
           "shape": ""
          }
         },
         "name": "Chipre",
         "offsetgroup": "Chipre",
         "orientation": "v",
         "showlegend": true,
         "type": "histogram",
         "x": [
          0,
          0,
          0,
          0,
          0,
          0,
          0,
          0,
          0,
          0,
          0,
          480,
          1843,
          6785,
          4530,
          4458
         ],
         "xaxis": "x",
         "yaxis": "y"
        },
        {
         "alignmentgroup": "True",
         "bingroup": "x",
         "hovertemplate": "Pais=Guiana<br>Venda_valor=%{x}<br>count=%{y}<extra></extra>",
         "legendgroup": "Guiana",
         "marker": {
          "color": "#19d3f3",
          "pattern": {
           "shape": ""
          }
         },
         "name": "Guiana",
         "offsetgroup": "Guiana",
         "orientation": "v",
         "showlegend": true,
         "type": "histogram",
         "x": [
          0,
          0,
          0,
          3654,
          0,
          0,
          0,
          0,
          0,
          0,
          0,
          0,
          1311,
          2577,
          6525,
          5823
         ],
         "xaxis": "x",
         "yaxis": "y"
        },
        {
         "alignmentgroup": "True",
         "bingroup": "x",
         "hovertemplate": "Pais=Equador<br>Venda_valor=%{x}<br>count=%{y}<extra></extra>",
         "legendgroup": "Equador",
         "marker": {
          "color": "#FF6692",
          "pattern": {
           "shape": ""
          }
         },
         "name": "Equador",
         "offsetgroup": "Equador",
         "orientation": "v",
         "showlegend": true,
         "type": "histogram",
         "x": [
          3585,
          0,
          0,
          0,
          0,
          0,
          0,
          0,
          0,
          0,
          0,
          0,
          3,
          3824,
          0,
          210
         ],
         "xaxis": "x",
         "yaxis": "y"
        },
        {
         "alignmentgroup": "True",
         "bingroup": "x",
         "hovertemplate": "Pais=Granada<br>Venda_valor=%{x}<br>count=%{y}<extra></extra>",
         "legendgroup": "Granada",
         "marker": {
          "color": "#B6E880",
          "pattern": {
           "shape": ""
          }
         },
         "name": "Granada",
         "offsetgroup": "Granada",
         "orientation": "v",
         "showlegend": true,
         "type": "histogram",
         "x": [
          0,
          0,
          0,
          0,
          0,
          0,
          0,
          0,
          0,
          0,
          0,
          0,
          0,
          0,
          0,
          7914
         ],
         "xaxis": "x",
         "yaxis": "y"
        },
        {
         "alignmentgroup": "True",
         "bingroup": "x",
         "hovertemplate": "Pais=Coreia, Republica Sul<br>Venda_valor=%{x}<br>count=%{y}<extra></extra>",
         "legendgroup": "Coreia, Republica Sul",
         "marker": {
          "color": "#FF97FF",
          "pattern": {
           "shape": ""
          }
         },
         "name": "Coreia, Republica Sul",
         "offsetgroup": "Coreia, Republica Sul",
         "orientation": "v",
         "showlegend": true,
         "type": "histogram",
         "x": [
          4650,
          14366,
          0,
          0,
          0,
          0,
          0,
          0,
          0,
          20,
          0,
          109,
          194,
          433,
          100,
          257
         ],
         "xaxis": "x",
         "yaxis": "y"
        },
        {
         "alignmentgroup": "True",
         "bingroup": "x",
         "hovertemplate": "Pais=Tailândia<br>Venda_valor=%{x}<br>count=%{y}<extra></extra>",
         "legendgroup": "Tailândia",
         "marker": {
          "color": "#FECB52",
          "pattern": {
           "shape": ""
          }
         },
         "name": "Tailândia",
         "offsetgroup": "Tailândia",
         "orientation": "v",
         "showlegend": true,
         "type": "histogram",
         "x": [
          2020,
          0,
          0,
          0,
          0,
          0,
          0,
          0,
          0,
          0,
          0,
          45,
          832,
          1753,
          2529,
          1713
         ],
         "xaxis": "x",
         "yaxis": "y"
        },
        {
         "alignmentgroup": "True",
         "bingroup": "x",
         "hovertemplate": "Pais=Brasil<br>Venda_valor=%{x}<br>count=%{y}<extra></extra>",
         "legendgroup": "Brasil",
         "marker": {
          "color": "#636efa",
          "pattern": {
           "shape": ""
          }
         },
         "name": "Brasil",
         "offsetgroup": "Brasil",
         "orientation": "v",
         "showlegend": true,
         "type": "histogram",
         "x": [
          0,
          0,
          0,
          0,
          0,
          0,
          0,
          0,
          0,
          0,
          0,
          0,
          0,
          0,
          46,
          952
         ],
         "xaxis": "x",
         "yaxis": "y"
        },
        {
         "alignmentgroup": "True",
         "bingroup": "x",
         "hovertemplate": "Pais=São Tomé e Príncipe<br>Venda_valor=%{x}<br>count=%{y}<extra></extra>",
         "legendgroup": "São Tomé e Príncipe",
         "marker": {
          "color": "#EF553B",
          "pattern": {
           "shape": ""
          }
         },
         "name": "São Tomé e Príncipe",
         "offsetgroup": "São Tomé e Príncipe",
         "orientation": "v",
         "showlegend": true,
         "type": "histogram",
         "x": [
          0,
          0,
          0,
          0,
          0,
          0,
          0,
          0,
          0,
          0,
          0,
          2357,
          0,
          0,
          0,
          0
         ],
         "xaxis": "x",
         "yaxis": "y"
        },
        {
         "alignmentgroup": "True",
         "bingroup": "x",
         "hovertemplate": "Pais=Antígua e Barbuda<br>Venda_valor=%{x}<br>count=%{y}<extra></extra>",
         "legendgroup": "Antígua e Barbuda",
         "marker": {
          "color": "#00cc96",
          "pattern": {
           "shape": ""
          }
         },
         "name": "Antígua e Barbuda",
         "offsetgroup": "Antígua e Barbuda",
         "orientation": "v",
         "showlegend": true,
         "type": "histogram",
         "x": [
          0,
          0,
          0,
          0,
          0,
          0,
          0,
          0,
          0,
          0,
          0,
          191,
          1549,
          1864,
          2268,
          1866
         ],
         "xaxis": "x",
         "yaxis": "y"
        },
        {
         "alignmentgroup": "True",
         "bingroup": "x",
         "hovertemplate": "Pais=Dominica<br>Venda_valor=%{x}<br>count=%{y}<extra></extra>",
         "legendgroup": "Dominica",
         "marker": {
          "color": "#ab63fa",
          "pattern": {
           "shape": ""
          }
         },
         "name": "Dominica",
         "offsetgroup": "Dominica",
         "orientation": "v",
         "showlegend": true,
         "type": "histogram",
         "x": [
          0,
          0,
          0,
          0,
          0,
          0,
          0,
          0,
          0,
          0,
          0,
          0,
          0,
          0,
          634,
          2223
         ],
         "xaxis": "x",
         "yaxis": "y"
        },
        {
         "alignmentgroup": "True",
         "bingroup": "x",
         "hovertemplate": "Pais=Barein<br>Venda_valor=%{x}<br>count=%{y}<extra></extra>",
         "legendgroup": "Barein",
         "marker": {
          "color": "#FFA15A",
          "pattern": {
           "shape": ""
          }
         },
         "name": "Barein",
         "offsetgroup": "Barein",
         "orientation": "v",
         "showlegend": true,
         "type": "histogram",
         "x": [
          0,
          0,
          0,
          0,
          0,
          0,
          0,
          0,
          0,
          0,
          0,
          0,
          2144,
          28,
          894,
          2789
         ],
         "xaxis": "x",
         "yaxis": "y"
        },
        {
         "alignmentgroup": "True",
         "bingroup": "x",
         "hovertemplate": "Pais=Camarões<br>Venda_valor=%{x}<br>count=%{y}<extra></extra>",
         "legendgroup": "Camarões",
         "marker": {
          "color": "#19d3f3",
          "pattern": {
           "shape": ""
          }
         },
         "name": "Camarões",
         "offsetgroup": "Camarões",
         "orientation": "v",
         "showlegend": true,
         "type": "histogram",
         "x": [
          0,
          0,
          0,
          0,
          0,
          0,
          0,
          0,
          0,
          0,
          7476,
          0,
          0,
          178,
          0,
          0
         ],
         "xaxis": "x",
         "yaxis": "y"
        },
        {
         "alignmentgroup": "True",
         "bingroup": "x",
         "hovertemplate": "Pais=Aruba<br>Venda_valor=%{x}<br>count=%{y}<extra></extra>",
         "legendgroup": "Aruba",
         "marker": {
          "color": "#FF6692",
          "pattern": {
           "shape": ""
          }
         },
         "name": "Aruba",
         "offsetgroup": "Aruba",
         "orientation": "v",
         "showlegend": true,
         "type": "histogram",
         "x": [
          0,
          0,
          0,
          0,
          1680,
          0,
          0,
          755,
          0,
          0,
          0,
          0,
          0,
          0,
          0,
          0
         ],
         "xaxis": "x",
         "yaxis": "y"
        },
        {
         "alignmentgroup": "True",
         "bingroup": "x",
         "hovertemplate": "Pais=Turquia<br>Venda_valor=%{x}<br>count=%{y}<extra></extra>",
         "legendgroup": "Turquia",
         "marker": {
          "color": "#B6E880",
          "pattern": {
           "shape": ""
          }
         },
         "name": "Turquia",
         "offsetgroup": "Turquia",
         "orientation": "v",
         "showlegend": true,
         "type": "histogram",
         "x": [
          0,
          0,
          0,
          0,
          0,
          0,
          0,
          0,
          0,
          0,
          0,
          150,
          209,
          0,
          878,
          503
         ],
         "xaxis": "x",
         "yaxis": "y"
        },
        {
         "alignmentgroup": "True",
         "bingroup": "x",
         "hovertemplate": "Pais=Trinidade Tobago<br>Venda_valor=%{x}<br>count=%{y}<extra></extra>",
         "legendgroup": "Trinidade Tobago",
         "marker": {
          "color": "#FF97FF",
          "pattern": {
           "shape": ""
          }
         },
         "name": "Trinidade Tobago",
         "offsetgroup": "Trinidade Tobago",
         "orientation": "v",
         "showlegend": true,
         "type": "histogram",
         "x": [
          0,
          0,
          0,
          0,
          0,
          2720,
          0,
          1600,
          0,
          0,
          0,
          0,
          0,
          0,
          0,
          0
         ],
         "xaxis": "x",
         "yaxis": "y"
        },
        {
         "alignmentgroup": "True",
         "bingroup": "x",
         "hovertemplate": "Pais=Gibraltar<br>Venda_valor=%{x}<br>count=%{y}<extra></extra>",
         "legendgroup": "Gibraltar",
         "marker": {
          "color": "#FECB52",
          "pattern": {
           "shape": ""
          }
         },
         "name": "Gibraltar",
         "offsetgroup": "Gibraltar",
         "orientation": "v",
         "showlegend": true,
         "type": "histogram",
         "x": [
          0,
          0,
          0,
          0,
          0,
          0,
          0,
          0,
          0,
          0,
          0,
          0,
          93,
          2860,
          0,
          0
         ],
         "xaxis": "x",
         "yaxis": "y"
        },
        {
         "alignmentgroup": "True",
         "bingroup": "x",
         "hovertemplate": "Pais=Áustria<br>Venda_valor=%{x}<br>count=%{y}<extra></extra>",
         "legendgroup": "Áustria",
         "marker": {
          "color": "#636efa",
          "pattern": {
           "shape": ""
          }
         },
         "name": "Áustria",
         "offsetgroup": "Áustria",
         "orientation": "v",
         "showlegend": true,
         "type": "histogram",
         "x": [
          0,
          0,
          0,
          0,
          0,
          0,
          0,
          0,
          0,
          5220,
          0,
          0,
          0,
          0,
          0,
          212
         ],
         "xaxis": "x",
         "yaxis": "y"
        },
        {
         "alignmentgroup": "True",
         "bingroup": "x",
         "hovertemplate": "Pais=Hungria<br>Venda_valor=%{x}<br>count=%{y}<extra></extra>",
         "legendgroup": "Hungria",
         "marker": {
          "color": "#EF553B",
          "pattern": {
           "shape": ""
          }
         },
         "name": "Hungria",
         "offsetgroup": "Hungria",
         "orientation": "v",
         "showlegend": true,
         "type": "histogram",
         "x": [
          0,
          0,
          0,
          4103,
          0,
          0,
          0,
          0,
          0,
          0,
          0,
          0,
          0,
          0,
          583,
          0
         ],
         "xaxis": "x",
         "yaxis": "y"
        },
        {
         "alignmentgroup": "True",
         "bingroup": "x",
         "hovertemplate": "Pais=Barbados<br>Venda_valor=%{x}<br>count=%{y}<extra></extra>",
         "legendgroup": "Barbados",
         "marker": {
          "color": "#00cc96",
          "pattern": {
           "shape": ""
          }
         },
         "name": "Barbados",
         "offsetgroup": "Barbados",
         "orientation": "v",
         "showlegend": true,
         "type": "histogram",
         "x": [
          0,
          0,
          0,
          0,
          0,
          0,
          0,
          0,
          0,
          0,
          0,
          0,
          394,
          169,
          844,
          1145
         ],
         "xaxis": "x",
         "yaxis": "y"
        },
        {
         "alignmentgroup": "True",
         "bingroup": "x",
         "hovertemplate": "Pais=República Dominicana<br>Venda_valor=%{x}<br>count=%{y}<extra></extra>",
         "legendgroup": "República Dominicana",
         "marker": {
          "color": "#ab63fa",
          "pattern": {
           "shape": ""
          }
         },
         "name": "República Dominicana",
         "offsetgroup": "República Dominicana",
         "orientation": "v",
         "showlegend": true,
         "type": "histogram",
         "x": [
          2438,
          0,
          0,
          0,
          0,
          0,
          0,
          0,
          0,
          0,
          0,
          0,
          0,
          0,
          0,
          0
         ],
         "xaxis": "x",
         "yaxis": "y"
        },
        {
         "alignmentgroup": "True",
         "bingroup": "x",
         "hovertemplate": "Pais=Eslovaca, Republica<br>Venda_valor=%{x}<br>count=%{y}<extra></extra>",
         "legendgroup": "Eslovaca, Republica",
         "marker": {
          "color": "#FFA15A",
          "pattern": {
           "shape": ""
          }
         },
         "name": "Eslovaca, Republica",
         "offsetgroup": "Eslovaca, Republica",
         "orientation": "v",
         "showlegend": true,
         "type": "histogram",
         "x": [
          0,
          16063,
          0,
          0,
          0,
          0,
          0,
          0,
          0,
          0,
          0,
          0,
          0,
          0,
          0,
          0
         ],
         "xaxis": "x",
         "yaxis": "y"
        },
        {
         "alignmentgroup": "True",
         "bingroup": "x",
         "hovertemplate": "Pais=Cayman, Ilhas<br>Venda_valor=%{x}<br>count=%{y}<extra></extra>",
         "legendgroup": "Cayman, Ilhas",
         "marker": {
          "color": "#19d3f3",
          "pattern": {
           "shape": ""
          }
         },
         "name": "Cayman, Ilhas",
         "offsetgroup": "Cayman, Ilhas",
         "orientation": "v",
         "showlegend": true,
         "type": "histogram",
         "x": [
          0,
          0,
          0,
          0,
          0,
          0,
          0,
          0,
          0,
          0,
          0,
          203,
          106,
          339,
          356,
          958
         ],
         "xaxis": "x",
         "yaxis": "y"
        },
        {
         "alignmentgroup": "True",
         "bingroup": "x",
         "hovertemplate": "Pais=Letônia<br>Venda_valor=%{x}<br>count=%{y}<extra></extra>",
         "legendgroup": "Letônia",
         "marker": {
          "color": "#FF6692",
          "pattern": {
           "shape": ""
          }
         },
         "name": "Letônia",
         "offsetgroup": "Letônia",
         "orientation": "v",
         "showlegend": true,
         "type": "histogram",
         "x": [
          0,
          0,
          0,
          0,
          0,
          0,
          0,
          0,
          0,
          0,
          3723,
          0,
          0,
          0,
          0,
          0
         ],
         "xaxis": "x",
         "yaxis": "y"
        },
        {
         "alignmentgroup": "True",
         "bingroup": "x",
         "hovertemplate": "Pais=Moçambique<br>Venda_valor=%{x}<br>count=%{y}<extra></extra>",
         "legendgroup": "Moçambique",
         "marker": {
          "color": "#B6E880",
          "pattern": {
           "shape": ""
          }
         },
         "name": "Moçambique",
         "offsetgroup": "Moçambique",
         "orientation": "v",
         "showlegend": true,
         "type": "histogram",
         "x": [
          0,
          0,
          0,
          0,
          0,
          0,
          0,
          0,
          0,
          0,
          0,
          0,
          0,
          0,
          0,
          1927
         ],
         "xaxis": "x",
         "yaxis": "y"
        },
        {
         "alignmentgroup": "True",
         "bingroup": "x",
         "hovertemplate": "Pais=Congo<br>Venda_valor=%{x}<br>count=%{y}<extra></extra>",
         "legendgroup": "Congo",
         "marker": {
          "color": "#FF97FF",
          "pattern": {
           "shape": ""
          }
         },
         "name": "Congo",
         "offsetgroup": "Congo",
         "orientation": "v",
         "showlegend": true,
         "type": "histogram",
         "x": [
          0,
          0,
          0,
          0,
          570,
          0,
          0,
          0,
          0,
          0,
          0,
          0,
          0,
          0,
          0,
          0
         ],
         "xaxis": "x",
         "yaxis": "y"
        },
        {
         "alignmentgroup": "True",
         "bingroup": "x",
         "hovertemplate": "Pais=Namibia<br>Venda_valor=%{x}<br>count=%{y}<extra></extra>",
         "legendgroup": "Namibia",
         "marker": {
          "color": "#FECB52",
          "pattern": {
           "shape": ""
          }
         },
         "name": "Namibia",
         "offsetgroup": "Namibia",
         "orientation": "v",
         "showlegend": true,
         "type": "histogram",
         "x": [
          0,
          722,
          0,
          0,
          0,
          0,
          0,
          0,
          0,
          0,
          0,
          0,
          0,
          0,
          0,
          0
         ],
         "xaxis": "x",
         "yaxis": "y"
        },
        {
         "alignmentgroup": "True",
         "bingroup": "x",
         "hovertemplate": "Pais=India<br>Venda_valor=%{x}<br>count=%{y}<extra></extra>",
         "legendgroup": "India",
         "marker": {
          "color": "#636efa",
          "pattern": {
           "shape": ""
          }
         },
         "name": "India",
         "offsetgroup": "India",
         "orientation": "v",
         "showlegend": true,
         "type": "histogram",
         "x": [
          0,
          0,
          0,
          0,
          0,
          0,
          0,
          0,
          0,
          0,
          0,
          0,
          273,
          10,
          86,
          1021
         ],
         "xaxis": "x",
         "yaxis": "y"
        },
        {
         "alignmentgroup": "True",
         "bingroup": "x",
         "hovertemplate": "Pais=Ilha de Man<br>Venda_valor=%{x}<br>count=%{y}<extra></extra>",
         "legendgroup": "Ilha de Man",
         "marker": {
          "color": "#EF553B",
          "pattern": {
           "shape": ""
          }
         },
         "name": "Ilha de Man",
         "offsetgroup": "Ilha de Man",
         "orientation": "v",
         "showlegend": true,
         "type": "histogram",
         "x": [
          0,
          0,
          0,
          0,
          0,
          0,
          0,
          0,
          0,
          0,
          0,
          0,
          175,
          121,
          445,
          641
         ],
         "xaxis": "x",
         "yaxis": "y"
        },
        {
         "alignmentgroup": "True",
         "bingroup": "x",
         "hovertemplate": "Pais=Omã<br>Venda_valor=%{x}<br>count=%{y}<extra></extra>",
         "legendgroup": "Omã",
         "marker": {
          "color": "#00cc96",
          "pattern": {
           "shape": ""
          }
         },
         "name": "Omã",
         "offsetgroup": "Omã",
         "orientation": "v",
         "showlegend": true,
         "type": "histogram",
         "x": [
          0,
          0,
          0,
          0,
          0,
          0,
          0,
          0,
          0,
          0,
          0,
          0,
          0,
          0,
          0,
          670
         ],
         "xaxis": "x",
         "yaxis": "y"
        },
        {
         "alignmentgroup": "True",
         "bingroup": "x",
         "hovertemplate": "Pais=Irã<br>Venda_valor=%{x}<br>count=%{y}<extra></extra>",
         "legendgroup": "Irã",
         "marker": {
          "color": "#ab63fa",
          "pattern": {
           "shape": ""
          }
         },
         "name": "Irã",
         "offsetgroup": "Irã",
         "orientation": "v",
         "showlegend": true,
         "type": "histogram",
         "x": [
          0,
          0,
          0,
          0,
          0,
          0,
          0,
          0,
          0,
          0,
          0,
          0,
          0,
          35,
          287,
          90
         ],
         "xaxis": "x",
         "yaxis": "y"
        },
        {
         "alignmentgroup": "True",
         "bingroup": "x",
         "hovertemplate": "Pais=Honduras<br>Venda_valor=%{x}<br>count=%{y}<extra></extra>",
         "legendgroup": "Honduras",
         "marker": {
          "color": "#FFA15A",
          "pattern": {
           "shape": ""
          }
         },
         "name": "Honduras",
         "offsetgroup": "Honduras",
         "orientation": "v",
         "showlegend": true,
         "type": "histogram",
         "x": [
          0,
          580,
          30,
          0,
          0,
          0,
          0,
          0,
          0,
          0,
          0,
          0,
          0,
          0,
          0,
          0
         ],
         "xaxis": "x",
         "yaxis": "y"
        },
        {
         "alignmentgroup": "True",
         "bingroup": "x",
         "hovertemplate": "Pais=Bulgária<br>Venda_valor=%{x}<br>count=%{y}<extra></extra>",
         "legendgroup": "Bulgária",
         "marker": {
          "color": "#19d3f3",
          "pattern": {
           "shape": ""
          }
         },
         "name": "Bulgária",
         "offsetgroup": "Bulgária",
         "orientation": "v",
         "showlegend": true,
         "type": "histogram",
         "x": [
          0,
          0,
          0,
          0,
          0,
          0,
          0,
          0,
          0,
          0,
          1579,
          0,
          0,
          0,
          0,
          31
         ],
         "xaxis": "x",
         "yaxis": "y"
        },
        {
         "alignmentgroup": "True",
         "bingroup": "x",
         "hovertemplate": "Pais=Guiana Francesa<br>Venda_valor=%{x}<br>count=%{y}<extra></extra>",
         "legendgroup": "Guiana Francesa",
         "marker": {
          "color": "#FF6692",
          "pattern": {
           "shape": ""
          }
         },
         "name": "Guiana Francesa",
         "offsetgroup": "Guiana Francesa",
         "orientation": "v",
         "showlegend": true,
         "type": "histogram",
         "x": [
          0,
          0,
          0,
          0,
          0,
          0,
          0,
          0,
          0,
          0,
          0,
          0,
          0,
          0,
          32,
          18
         ],
         "xaxis": "x",
         "yaxis": "y"
        },
        {
         "alignmentgroup": "True",
         "bingroup": "x",
         "hovertemplate": "Pais=Malásia<br>Venda_valor=%{x}<br>count=%{y}<extra></extra>",
         "legendgroup": "Malásia",
         "marker": {
          "color": "#B6E880",
          "pattern": {
           "shape": ""
          }
         },
         "name": "Malásia",
         "offsetgroup": "Malásia",
         "orientation": "v",
         "showlegend": true,
         "type": "histogram",
         "x": [
          0,
          0,
          0,
          0,
          0,
          0,
          0,
          0,
          0,
          0,
          0,
          33,
          110,
          0,
          0,
          0
         ],
         "xaxis": "x",
         "yaxis": "y"
        },
        {
         "alignmentgroup": "True",
         "bingroup": "x",
         "hovertemplate": "Pais=Croácia<br>Venda_valor=%{x}<br>count=%{y}<extra></extra>",
         "legendgroup": "Croácia",
         "marker": {
          "color": "#FF97FF",
          "pattern": {
           "shape": ""
          }
         },
         "name": "Croácia",
         "offsetgroup": "Croácia",
         "orientation": "v",
         "showlegend": true,
         "type": "histogram",
         "x": [
          0,
          0,
          0,
          0,
          0,
          0,
          0,
          0,
          0,
          0,
          0,
          0,
          0,
          123,
          0,
          484
         ],
         "xaxis": "x",
         "yaxis": "y"
        },
        {
         "alignmentgroup": "True",
         "bingroup": "x",
         "hovertemplate": "Pais=El Salvador<br>Venda_valor=%{x}<br>count=%{y}<extra></extra>",
         "legendgroup": "El Salvador",
         "marker": {
          "color": "#FECB52",
          "pattern": {
           "shape": ""
          }
         },
         "name": "El Salvador",
         "offsetgroup": "El Salvador",
         "orientation": "v",
         "showlegend": true,
         "type": "histogram",
         "x": [
          0,
          0,
          100,
          0,
          0,
          0,
          0,
          0,
          0,
          0,
          0,
          0,
          0,
          0,
          0,
          0
         ],
         "xaxis": "x",
         "yaxis": "y"
        },
        {
         "alignmentgroup": "True",
         "bingroup": "x",
         "hovertemplate": "Pais=Costa Rica<br>Venda_valor=%{x}<br>count=%{y}<extra></extra>",
         "legendgroup": "Costa Rica",
         "marker": {
          "color": "#636efa",
          "pattern": {
           "shape": ""
          }
         },
         "name": "Costa Rica",
         "offsetgroup": "Costa Rica",
         "orientation": "v",
         "showlegend": true,
         "type": "histogram",
         "x": [
          0,
          200,
          0,
          0,
          0,
          0,
          0,
          0,
          0,
          0,
          0,
          0,
          0,
          0,
          0,
          0
         ],
         "xaxis": "x",
         "yaxis": "y"
        },
        {
         "alignmentgroup": "True",
         "bingroup": "x",
         "hovertemplate": "Pais=Guine Bissau<br>Venda_valor=%{x}<br>count=%{y}<extra></extra>",
         "legendgroup": "Guine Bissau",
         "marker": {
          "color": "#EF553B",
          "pattern": {
           "shape": ""
          }
         },
         "name": "Guine Bissau",
         "offsetgroup": "Guine Bissau",
         "orientation": "v",
         "showlegend": true,
         "type": "histogram",
         "x": [
          0,
          0,
          0,
          0,
          0,
          0,
          0,
          0,
          0,
          0,
          90,
          0,
          0,
          0,
          0,
          0
         ],
         "xaxis": "x",
         "yaxis": "y"
        },
        {
         "alignmentgroup": "True",
         "bingroup": "x",
         "hovertemplate": "Pais=Bósnia-Herzegovina<br>Venda_valor=%{x}<br>count=%{y}<extra></extra>",
         "legendgroup": "Bósnia-Herzegovina",
         "marker": {
          "color": "#00cc96",
          "pattern": {
           "shape": ""
          }
         },
         "name": "Bósnia-Herzegovina",
         "offsetgroup": "Bósnia-Herzegovina",
         "orientation": "v",
         "showlegend": true,
         "type": "histogram",
         "x": [
          0,
          0,
          0,
          0,
          0,
          0,
          0,
          0,
          0,
          0,
          0,
          0,
          0,
          52,
          0,
          0
         ],
         "xaxis": "x",
         "yaxis": "y"
        },
        {
         "alignmentgroup": "True",
         "bingroup": "x",
         "hovertemplate": "Pais=Montenegro<br>Venda_valor=%{x}<br>count=%{y}<extra></extra>",
         "legendgroup": "Montenegro",
         "marker": {
          "color": "#ab63fa",
          "pattern": {
           "shape": ""
          }
         },
         "name": "Montenegro",
         "offsetgroup": "Montenegro",
         "orientation": "v",
         "showlegend": true,
         "type": "histogram",
         "x": [
          0,
          0,
          0,
          0,
          0,
          0,
          0,
          0,
          0,
          0,
          0,
          0,
          46,
          20,
          65,
          0
         ],
         "xaxis": "x",
         "yaxis": "y"
        },
        {
         "alignmentgroup": "True",
         "bingroup": "x",
         "hovertemplate": "Pais=África do Sul<br>Venda_valor=%{x}<br>count=%{y}<extra></extra>",
         "legendgroup": "África do Sul",
         "marker": {
          "color": "#FFA15A",
          "pattern": {
           "shape": ""
          }
         },
         "name": "África do Sul",
         "offsetgroup": "África do Sul",
         "orientation": "v",
         "showlegend": true,
         "type": "histogram",
         "x": [
          0,
          0,
          0,
          0,
          0,
          0,
          0,
          0,
          0,
          0,
          0,
          0,
          95,
          21,
          0,
          0
         ],
         "xaxis": "x",
         "yaxis": "y"
        },
        {
         "alignmentgroup": "True",
         "bingroup": "x",
         "hovertemplate": "Pais=São Vicente e Granadinas<br>Venda_valor=%{x}<br>count=%{y}<extra></extra>",
         "legendgroup": "São Vicente e Granadinas",
         "marker": {
          "color": "#19d3f3",
          "pattern": {
           "shape": ""
          }
         },
         "name": "São Vicente e Granadinas",
         "offsetgroup": "São Vicente e Granadinas",
         "orientation": "v",
         "showlegend": true,
         "type": "histogram",
         "x": [
          0,
          0,
          0,
          0,
          0,
          0,
          0,
          0,
          0,
          0,
          0,
          0,
          0,
          0,
          48,
          51
         ],
         "xaxis": "x",
         "yaxis": "y"
        },
        {
         "alignmentgroup": "True",
         "bingroup": "x",
         "hovertemplate": "Pais=Cocos (Keeling), Ilhas<br>Venda_valor=%{x}<br>count=%{y}<extra></extra>",
         "legendgroup": "Cocos (Keeling), Ilhas",
         "marker": {
          "color": "#FF6692",
          "pattern": {
           "shape": ""
          }
         },
         "name": "Cocos (Keeling), Ilhas",
         "offsetgroup": "Cocos (Keeling), Ilhas",
         "orientation": "v",
         "showlegend": true,
         "type": "histogram",
         "x": [
          0,
          0,
          0,
          0,
          0,
          0,
          0,
          0,
          0,
          0,
          0,
          0,
          0,
          0,
          0,
          60
         ],
         "xaxis": "x",
         "yaxis": "y"
        },
        {
         "alignmentgroup": "True",
         "bingroup": "x",
         "hovertemplate": "Pais=Nicaragua<br>Venda_valor=%{x}<br>count=%{y}<extra></extra>",
         "legendgroup": "Nicaragua",
         "marker": {
          "color": "#B6E880",
          "pattern": {
           "shape": ""
          }
         },
         "name": "Nicaragua",
         "offsetgroup": "Nicaragua",
         "orientation": "v",
         "showlegend": true,
         "type": "histogram",
         "x": [
          0,
          0,
          24,
          0,
          0,
          0,
          0,
          0,
          0,
          0,
          0,
          0,
          0,
          0,
          0,
          0
         ],
         "xaxis": "x",
         "yaxis": "y"
        },
        {
         "alignmentgroup": "True",
         "bingroup": "x",
         "hovertemplate": "Pais=Vanuatu<br>Venda_valor=%{x}<br>count=%{y}<extra></extra>",
         "legendgroup": "Vanuatu",
         "marker": {
          "color": "#FF97FF",
          "pattern": {
           "shape": ""
          }
         },
         "name": "Vanuatu",
         "offsetgroup": "Vanuatu",
         "orientation": "v",
         "showlegend": true,
         "type": "histogram",
         "x": [
          0,
          0,
          0,
          0,
          0,
          0,
          0,
          0,
          0,
          0,
          0,
          0,
          0,
          31,
          0,
          0
         ],
         "xaxis": "x",
         "yaxis": "y"
        },
        {
         "alignmentgroup": "True",
         "bingroup": "x",
         "hovertemplate": "Pais=Bangladesh<br>Venda_valor=%{x}<br>count=%{y}<extra></extra>",
         "legendgroup": "Bangladesh",
         "marker": {
          "color": "#FECB52",
          "pattern": {
           "shape": ""
          }
         },
         "name": "Bangladesh",
         "offsetgroup": "Bangladesh",
         "orientation": "v",
         "showlegend": true,
         "type": "histogram",
         "x": [
          0,
          0,
          0,
          0,
          0,
          0,
          0,
          0,
          0,
          0,
          0,
          0,
          0,
          29,
          20,
          84
         ],
         "xaxis": "x",
         "yaxis": "y"
        },
        {
         "alignmentgroup": "True",
         "bingroup": "x",
         "hovertemplate": "Pais=Jordânia<br>Venda_valor=%{x}<br>count=%{y}<extra></extra>",
         "legendgroup": "Jordânia",
         "marker": {
          "color": "#636efa",
          "pattern": {
           "shape": ""
          }
         },
         "name": "Jordânia",
         "offsetgroup": "Jordânia",
         "orientation": "v",
         "showlegend": true,
         "type": "histogram",
         "x": [
          0,
          0,
          0,
          0,
          0,
          0,
          0,
          0,
          0,
          0,
          0,
          0,
          0,
          52,
          0,
          0
         ],
         "xaxis": "x",
         "yaxis": "y"
        },
        {
         "alignmentgroup": "True",
         "bingroup": "x",
         "hovertemplate": "Pais=Afeganistão<br>Venda_valor=%{x}<br>count=%{y}<extra></extra>",
         "legendgroup": "Afeganistão",
         "marker": {
          "color": "#EF553B",
          "pattern": {
           "shape": ""
          }
         },
         "name": "Afeganistão",
         "offsetgroup": "Afeganistão",
         "orientation": "v",
         "showlegend": true,
         "type": "histogram",
         "x": [
          0,
          0,
          0,
          0,
          0,
          0,
          0,
          0,
          0,
          0,
          0,
          0,
          0,
          0,
          46,
          0
         ],
         "xaxis": "x",
         "yaxis": "y"
        },
        {
         "alignmentgroup": "True",
         "bingroup": "x",
         "hovertemplate": "Pais=Suazilândia<br>Venda_valor=%{x}<br>count=%{y}<extra></extra>",
         "legendgroup": "Suazilândia",
         "marker": {
          "color": "#00cc96",
          "pattern": {
           "shape": ""
          }
         },
         "name": "Suazilândia",
         "offsetgroup": "Suazilândia",
         "orientation": "v",
         "showlegend": true,
         "type": "histogram",
         "x": [
          0,
          0,
          0,
          0,
          0,
          0,
          0,
          0,
          0,
          0,
          0,
          0,
          0,
          0,
          24,
          0
         ],
         "xaxis": "x",
         "yaxis": "y"
        },
        {
         "alignmentgroup": "True",
         "bingroup": "x",
         "hovertemplate": "Pais=Belice<br>Venda_valor=%{x}<br>count=%{y}<extra></extra>",
         "legendgroup": "Belice",
         "marker": {
          "color": "#ab63fa",
          "pattern": {
           "shape": ""
          }
         },
         "name": "Belice",
         "offsetgroup": "Belice",
         "orientation": "v",
         "showlegend": true,
         "type": "histogram",
         "x": [
          0,
          0,
          0,
          0,
          0,
          0,
          0,
          0,
          0,
          0,
          0,
          0,
          29,
          0,
          0,
          0
         ],
         "xaxis": "x",
         "yaxis": "y"
        },
        {
         "alignmentgroup": "True",
         "bingroup": "x",
         "hovertemplate": "Pais=Comores<br>Venda_valor=%{x}<br>count=%{y}<extra></extra>",
         "legendgroup": "Comores",
         "marker": {
          "color": "#FFA15A",
          "pattern": {
           "shape": ""
          }
         },
         "name": "Comores",
         "offsetgroup": "Comores",
         "orientation": "v",
         "showlegend": true,
         "type": "histogram",
         "x": [
          0,
          0,
          0,
          0,
          0,
          0,
          0,
          0,
          0,
          0,
          0,
          0,
          0,
          25,
          0,
          0
         ],
         "xaxis": "x",
         "yaxis": "y"
        },
        {
         "alignmentgroup": "True",
         "bingroup": "x",
         "hovertemplate": "Pais=Mauritânia<br>Venda_valor=%{x}<br>count=%{y}<extra></extra>",
         "legendgroup": "Mauritânia",
         "marker": {
          "color": "#19d3f3",
          "pattern": {
           "shape": ""
          }
         },
         "name": "Mauritânia",
         "offsetgroup": "Mauritânia",
         "orientation": "v",
         "showlegend": true,
         "type": "histogram",
         "x": [
          0,
          0,
          0,
          0,
          0,
          0,
          0,
          0,
          0,
          0,
          0,
          0,
          0,
          0,
          85,
          0
         ],
         "xaxis": "x",
         "yaxis": "y"
        },
        {
         "alignmentgroup": "True",
         "bingroup": "x",
         "hovertemplate": "Pais=Indonésia<br>Venda_valor=%{x}<br>count=%{y}<extra></extra>",
         "legendgroup": "Indonésia",
         "marker": {
          "color": "#FF6692",
          "pattern": {
           "shape": ""
          }
         },
         "name": "Indonésia",
         "offsetgroup": "Indonésia",
         "orientation": "v",
         "showlegend": true,
         "type": "histogram",
         "x": [
          0,
          0,
          0,
          0,
          0,
          0,
          0,
          0,
          0,
          0,
          0,
          0,
          0,
          6,
          0,
          0
         ],
         "xaxis": "x",
         "yaxis": "y"
        },
        {
         "alignmentgroup": "True",
         "bingroup": "x",
         "hovertemplate": "Pais=Tuvalu<br>Venda_valor=%{x}<br>count=%{y}<extra></extra>",
         "legendgroup": "Tuvalu",
         "marker": {
          "color": "#B6E880",
          "pattern": {
           "shape": ""
          }
         },
         "name": "Tuvalu",
         "offsetgroup": "Tuvalu",
         "orientation": "v",
         "showlegend": true,
         "type": "histogram",
         "x": [
          0,
          0,
          0,
          0,
          0,
          0,
          0,
          0,
          0,
          0,
          0,
          0,
          0,
          4,
          0,
          0
         ],
         "xaxis": "x",
         "yaxis": "y"
        }
       ],
       "layout": {
        "barmode": "relative",
        "legend": {
         "title": {
          "text": "Pais"
         },
         "tracegroupgap": 0
        },
        "margin": {
         "t": 60
        },
        "template": {
         "data": {
          "bar": [
           {
            "error_x": {
             "color": "#2a3f5f"
            },
            "error_y": {
             "color": "#2a3f5f"
            },
            "marker": {
             "line": {
              "color": "#E5ECF6",
              "width": 0.5
             },
             "pattern": {
              "fillmode": "overlay",
              "size": 10,
              "solidity": 0.2
             }
            },
            "type": "bar"
           }
          ],
          "barpolar": [
           {
            "marker": {
             "line": {
              "color": "#E5ECF6",
              "width": 0.5
             },
             "pattern": {
              "fillmode": "overlay",
              "size": 10,
              "solidity": 0.2
             }
            },
            "type": "barpolar"
           }
          ],
          "carpet": [
           {
            "aaxis": {
             "endlinecolor": "#2a3f5f",
             "gridcolor": "white",
             "linecolor": "white",
             "minorgridcolor": "white",
             "startlinecolor": "#2a3f5f"
            },
            "baxis": {
             "endlinecolor": "#2a3f5f",
             "gridcolor": "white",
             "linecolor": "white",
             "minorgridcolor": "white",
             "startlinecolor": "#2a3f5f"
            },
            "type": "carpet"
           }
          ],
          "choropleth": [
           {
            "colorbar": {
             "outlinewidth": 0,
             "ticks": ""
            },
            "type": "choropleth"
           }
          ],
          "contour": [
           {
            "colorbar": {
             "outlinewidth": 0,
             "ticks": ""
            },
            "colorscale": [
             [
              0,
              "#0d0887"
             ],
             [
              0.1111111111111111,
              "#46039f"
             ],
             [
              0.2222222222222222,
              "#7201a8"
             ],
             [
              0.3333333333333333,
              "#9c179e"
             ],
             [
              0.4444444444444444,
              "#bd3786"
             ],
             [
              0.5555555555555556,
              "#d8576b"
             ],
             [
              0.6666666666666666,
              "#ed7953"
             ],
             [
              0.7777777777777778,
              "#fb9f3a"
             ],
             [
              0.8888888888888888,
              "#fdca26"
             ],
             [
              1,
              "#f0f921"
             ]
            ],
            "type": "contour"
           }
          ],
          "contourcarpet": [
           {
            "colorbar": {
             "outlinewidth": 0,
             "ticks": ""
            },
            "type": "contourcarpet"
           }
          ],
          "heatmap": [
           {
            "colorbar": {
             "outlinewidth": 0,
             "ticks": ""
            },
            "colorscale": [
             [
              0,
              "#0d0887"
             ],
             [
              0.1111111111111111,
              "#46039f"
             ],
             [
              0.2222222222222222,
              "#7201a8"
             ],
             [
              0.3333333333333333,
              "#9c179e"
             ],
             [
              0.4444444444444444,
              "#bd3786"
             ],
             [
              0.5555555555555556,
              "#d8576b"
             ],
             [
              0.6666666666666666,
              "#ed7953"
             ],
             [
              0.7777777777777778,
              "#fb9f3a"
             ],
             [
              0.8888888888888888,
              "#fdca26"
             ],
             [
              1,
              "#f0f921"
             ]
            ],
            "type": "heatmap"
           }
          ],
          "heatmapgl": [
           {
            "colorbar": {
             "outlinewidth": 0,
             "ticks": ""
            },
            "colorscale": [
             [
              0,
              "#0d0887"
             ],
             [
              0.1111111111111111,
              "#46039f"
             ],
             [
              0.2222222222222222,
              "#7201a8"
             ],
             [
              0.3333333333333333,
              "#9c179e"
             ],
             [
              0.4444444444444444,
              "#bd3786"
             ],
             [
              0.5555555555555556,
              "#d8576b"
             ],
             [
              0.6666666666666666,
              "#ed7953"
             ],
             [
              0.7777777777777778,
              "#fb9f3a"
             ],
             [
              0.8888888888888888,
              "#fdca26"
             ],
             [
              1,
              "#f0f921"
             ]
            ],
            "type": "heatmapgl"
           }
          ],
          "histogram": [
           {
            "marker": {
             "pattern": {
              "fillmode": "overlay",
              "size": 10,
              "solidity": 0.2
             }
            },
            "type": "histogram"
           }
          ],
          "histogram2d": [
           {
            "colorbar": {
             "outlinewidth": 0,
             "ticks": ""
            },
            "colorscale": [
             [
              0,
              "#0d0887"
             ],
             [
              0.1111111111111111,
              "#46039f"
             ],
             [
              0.2222222222222222,
              "#7201a8"
             ],
             [
              0.3333333333333333,
              "#9c179e"
             ],
             [
              0.4444444444444444,
              "#bd3786"
             ],
             [
              0.5555555555555556,
              "#d8576b"
             ],
             [
              0.6666666666666666,
              "#ed7953"
             ],
             [
              0.7777777777777778,
              "#fb9f3a"
             ],
             [
              0.8888888888888888,
              "#fdca26"
             ],
             [
              1,
              "#f0f921"
             ]
            ],
            "type": "histogram2d"
           }
          ],
          "histogram2dcontour": [
           {
            "colorbar": {
             "outlinewidth": 0,
             "ticks": ""
            },
            "colorscale": [
             [
              0,
              "#0d0887"
             ],
             [
              0.1111111111111111,
              "#46039f"
             ],
             [
              0.2222222222222222,
              "#7201a8"
             ],
             [
              0.3333333333333333,
              "#9c179e"
             ],
             [
              0.4444444444444444,
              "#bd3786"
             ],
             [
              0.5555555555555556,
              "#d8576b"
             ],
             [
              0.6666666666666666,
              "#ed7953"
             ],
             [
              0.7777777777777778,
              "#fb9f3a"
             ],
             [
              0.8888888888888888,
              "#fdca26"
             ],
             [
              1,
              "#f0f921"
             ]
            ],
            "type": "histogram2dcontour"
           }
          ],
          "mesh3d": [
           {
            "colorbar": {
             "outlinewidth": 0,
             "ticks": ""
            },
            "type": "mesh3d"
           }
          ],
          "parcoords": [
           {
            "line": {
             "colorbar": {
              "outlinewidth": 0,
              "ticks": ""
             }
            },
            "type": "parcoords"
           }
          ],
          "pie": [
           {
            "automargin": true,
            "type": "pie"
           }
          ],
          "scatter": [
           {
            "fillpattern": {
             "fillmode": "overlay",
             "size": 10,
             "solidity": 0.2
            },
            "type": "scatter"
           }
          ],
          "scatter3d": [
           {
            "line": {
             "colorbar": {
              "outlinewidth": 0,
              "ticks": ""
             }
            },
            "marker": {
             "colorbar": {
              "outlinewidth": 0,
              "ticks": ""
             }
            },
            "type": "scatter3d"
           }
          ],
          "scattercarpet": [
           {
            "marker": {
             "colorbar": {
              "outlinewidth": 0,
              "ticks": ""
             }
            },
            "type": "scattercarpet"
           }
          ],
          "scattergeo": [
           {
            "marker": {
             "colorbar": {
              "outlinewidth": 0,
              "ticks": ""
             }
            },
            "type": "scattergeo"
           }
          ],
          "scattergl": [
           {
            "marker": {
             "colorbar": {
              "outlinewidth": 0,
              "ticks": ""
             }
            },
            "type": "scattergl"
           }
          ],
          "scattermapbox": [
           {
            "marker": {
             "colorbar": {
              "outlinewidth": 0,
              "ticks": ""
             }
            },
            "type": "scattermapbox"
           }
          ],
          "scatterpolar": [
           {
            "marker": {
             "colorbar": {
              "outlinewidth": 0,
              "ticks": ""
             }
            },
            "type": "scatterpolar"
           }
          ],
          "scatterpolargl": [
           {
            "marker": {
             "colorbar": {
              "outlinewidth": 0,
              "ticks": ""
             }
            },
            "type": "scatterpolargl"
           }
          ],
          "scatterternary": [
           {
            "marker": {
             "colorbar": {
              "outlinewidth": 0,
              "ticks": ""
             }
            },
            "type": "scatterternary"
           }
          ],
          "surface": [
           {
            "colorbar": {
             "outlinewidth": 0,
             "ticks": ""
            },
            "colorscale": [
             [
              0,
              "#0d0887"
             ],
             [
              0.1111111111111111,
              "#46039f"
             ],
             [
              0.2222222222222222,
              "#7201a8"
             ],
             [
              0.3333333333333333,
              "#9c179e"
             ],
             [
              0.4444444444444444,
              "#bd3786"
             ],
             [
              0.5555555555555556,
              "#d8576b"
             ],
             [
              0.6666666666666666,
              "#ed7953"
             ],
             [
              0.7777777777777778,
              "#fb9f3a"
             ],
             [
              0.8888888888888888,
              "#fdca26"
             ],
             [
              1,
              "#f0f921"
             ]
            ],
            "type": "surface"
           }
          ],
          "table": [
           {
            "cells": {
             "fill": {
              "color": "#EBF0F8"
             },
             "line": {
              "color": "white"
             }
            },
            "header": {
             "fill": {
              "color": "#C8D4E3"
             },
             "line": {
              "color": "white"
             }
            },
            "type": "table"
           }
          ]
         },
         "layout": {
          "annotationdefaults": {
           "arrowcolor": "#2a3f5f",
           "arrowhead": 0,
           "arrowwidth": 1
          },
          "autotypenumbers": "strict",
          "coloraxis": {
           "colorbar": {
            "outlinewidth": 0,
            "ticks": ""
           }
          },
          "colorscale": {
           "diverging": [
            [
             0,
             "#8e0152"
            ],
            [
             0.1,
             "#c51b7d"
            ],
            [
             0.2,
             "#de77ae"
            ],
            [
             0.3,
             "#f1b6da"
            ],
            [
             0.4,
             "#fde0ef"
            ],
            [
             0.5,
             "#f7f7f7"
            ],
            [
             0.6,
             "#e6f5d0"
            ],
            [
             0.7,
             "#b8e186"
            ],
            [
             0.8,
             "#7fbc41"
            ],
            [
             0.9,
             "#4d9221"
            ],
            [
             1,
             "#276419"
            ]
           ],
           "sequential": [
            [
             0,
             "#0d0887"
            ],
            [
             0.1111111111111111,
             "#46039f"
            ],
            [
             0.2222222222222222,
             "#7201a8"
            ],
            [
             0.3333333333333333,
             "#9c179e"
            ],
            [
             0.4444444444444444,
             "#bd3786"
            ],
            [
             0.5555555555555556,
             "#d8576b"
            ],
            [
             0.6666666666666666,
             "#ed7953"
            ],
            [
             0.7777777777777778,
             "#fb9f3a"
            ],
            [
             0.8888888888888888,
             "#fdca26"
            ],
            [
             1,
             "#f0f921"
            ]
           ],
           "sequentialminus": [
            [
             0,
             "#0d0887"
            ],
            [
             0.1111111111111111,
             "#46039f"
            ],
            [
             0.2222222222222222,
             "#7201a8"
            ],
            [
             0.3333333333333333,
             "#9c179e"
            ],
            [
             0.4444444444444444,
             "#bd3786"
            ],
            [
             0.5555555555555556,
             "#d8576b"
            ],
            [
             0.6666666666666666,
             "#ed7953"
            ],
            [
             0.7777777777777778,
             "#fb9f3a"
            ],
            [
             0.8888888888888888,
             "#fdca26"
            ],
            [
             1,
             "#f0f921"
            ]
           ]
          },
          "colorway": [
           "#636efa",
           "#EF553B",
           "#00cc96",
           "#ab63fa",
           "#FFA15A",
           "#19d3f3",
           "#FF6692",
           "#B6E880",
           "#FF97FF",
           "#FECB52"
          ],
          "font": {
           "color": "#2a3f5f"
          },
          "geo": {
           "bgcolor": "white",
           "lakecolor": "white",
           "landcolor": "#E5ECF6",
           "showlakes": true,
           "showland": true,
           "subunitcolor": "white"
          },
          "hoverlabel": {
           "align": "left"
          },
          "hovermode": "closest",
          "mapbox": {
           "style": "light"
          },
          "paper_bgcolor": "white",
          "plot_bgcolor": "#E5ECF6",
          "polar": {
           "angularaxis": {
            "gridcolor": "white",
            "linecolor": "white",
            "ticks": ""
           },
           "bgcolor": "#E5ECF6",
           "radialaxis": {
            "gridcolor": "white",
            "linecolor": "white",
            "ticks": ""
           }
          },
          "scene": {
           "xaxis": {
            "backgroundcolor": "#E5ECF6",
            "gridcolor": "white",
            "gridwidth": 2,
            "linecolor": "white",
            "showbackground": true,
            "ticks": "",
            "zerolinecolor": "white"
           },
           "yaxis": {
            "backgroundcolor": "#E5ECF6",
            "gridcolor": "white",
            "gridwidth": 2,
            "linecolor": "white",
            "showbackground": true,
            "ticks": "",
            "zerolinecolor": "white"
           },
           "zaxis": {
            "backgroundcolor": "#E5ECF6",
            "gridcolor": "white",
            "gridwidth": 2,
            "linecolor": "white",
            "showbackground": true,
            "ticks": "",
            "zerolinecolor": "white"
           }
          },
          "shapedefaults": {
           "line": {
            "color": "#2a3f5f"
           }
          },
          "ternary": {
           "aaxis": {
            "gridcolor": "white",
            "linecolor": "white",
            "ticks": ""
           },
           "baxis": {
            "gridcolor": "white",
            "linecolor": "white",
            "ticks": ""
           },
           "bgcolor": "#E5ECF6",
           "caxis": {
            "gridcolor": "white",
            "linecolor": "white",
            "ticks": ""
           }
          },
          "title": {
           "x": 0.05
          },
          "xaxis": {
           "automargin": true,
           "gridcolor": "white",
           "linecolor": "white",
           "ticks": "",
           "title": {
            "standoff": 15
           },
           "zerolinecolor": "white",
           "zerolinewidth": 2
          },
          "yaxis": {
           "automargin": true,
           "gridcolor": "white",
           "linecolor": "white",
           "ticks": "",
           "title": {
            "standoff": 15
           },
           "zerolinecolor": "white",
           "zerolinewidth": 2
          }
         }
        },
        "xaxis": {
         "anchor": "y",
         "domain": [
          0,
          1
         ],
         "title": {
          "text": "Venda_valor"
         }
        },
        "yaxis": {
         "anchor": "x",
         "domain": [
          0,
          1
         ],
         "title": {
          "text": "count"
         }
        }
       }
      }
     },
     "metadata": {},
     "output_type": "display_data"
    }
   ],
   "source": [
    "import plotly.express as px\n",
    "grafico = px.histogram(base_vinhos, x='Venda_valor', color='Pais')\n",
    "grafico.show()"
   ]
  },
  {
   "cell_type": "markdown",
   "metadata": {},
   "source": [
    "### Analisando a participação de vendas para cada país"
   ]
  },
  {
   "cell_type": "code",
   "execution_count": 16,
   "metadata": {},
   "outputs": [
    {
     "data": {
      "text/html": [
       "<div>\n",
       "<style scoped>\n",
       "    .dataframe tbody tr th:only-of-type {\n",
       "        vertical-align: middle;\n",
       "    }\n",
       "\n",
       "    .dataframe tbody tr th {\n",
       "        vertical-align: top;\n",
       "    }\n",
       "\n",
       "    .dataframe thead th {\n",
       "        text-align: right;\n",
       "    }\n",
       "</style>\n",
       "<table border=\"1\" class=\"dataframe\">\n",
       "  <thead>\n",
       "    <tr style=\"text-align: right;\">\n",
       "      <th></th>\n",
       "      <th>Pais</th>\n",
       "      <th>Venda_volume</th>\n",
       "      <th>Part_venda_volume</th>\n",
       "      <th>Venda_valor</th>\n",
       "      <th>Part_venda_valor</th>\n",
       "    </tr>\n",
       "  </thead>\n",
       "  <tbody>\n",
       "    <tr>\n",
       "      <th>88</th>\n",
       "      <td>Paraguai</td>\n",
       "      <td>30500229.0</td>\n",
       "      <td>33.419714</td>\n",
       "      <td>39520550.0</td>\n",
       "      <td>33.972657</td>\n",
       "    </tr>\n",
       "    <tr>\n",
       "      <th>96</th>\n",
       "      <td>Rússia</td>\n",
       "      <td>39296199.0</td>\n",
       "      <td>43.057635</td>\n",
       "      <td>25677644.0</td>\n",
       "      <td>22.073017</td>\n",
       "    </tr>\n",
       "    <tr>\n",
       "      <th>44</th>\n",
       "      <td>Estados Unidos</td>\n",
       "      <td>4042624.0</td>\n",
       "      <td>4.429584</td>\n",
       "      <td>10494605.0</td>\n",
       "      <td>9.021373</td>\n",
       "    </tr>\n",
       "    <tr>\n",
       "      <th>94</th>\n",
       "      <td>Reino Unido</td>\n",
       "      <td>1324164.0</td>\n",
       "      <td>1.450913</td>\n",
       "      <td>4855708.0</td>\n",
       "      <td>4.174064</td>\n",
       "    </tr>\n",
       "    <tr>\n",
       "      <th>25</th>\n",
       "      <td>China</td>\n",
       "      <td>2517096.0</td>\n",
       "      <td>2.758033</td>\n",
       "      <td>4776915.0</td>\n",
       "      <td>4.106332</td>\n",
       "    </tr>\n",
       "    <tr>\n",
       "      <th>89</th>\n",
       "      <td>Países Baixos</td>\n",
       "      <td>1417200.0</td>\n",
       "      <td>1.552855</td>\n",
       "      <td>4156362.0</td>\n",
       "      <td>3.572892</td>\n",
       "    </tr>\n",
       "    <tr>\n",
       "      <th>43</th>\n",
       "      <td>Espanha</td>\n",
       "      <td>1993000.0</td>\n",
       "      <td>2.183770</td>\n",
       "      <td>3808552.0</td>\n",
       "      <td>3.273908</td>\n",
       "    </tr>\n",
       "    <tr>\n",
       "      <th>1</th>\n",
       "      <td>Alemanha, República Democrática</td>\n",
       "      <td>1028563.0</td>\n",
       "      <td>1.127017</td>\n",
       "      <td>2784446.0</td>\n",
       "      <td>2.393566</td>\n",
       "    </tr>\n",
       "    <tr>\n",
       "      <th>68</th>\n",
       "      <td>Japão</td>\n",
       "      <td>1539635.0</td>\n",
       "      <td>1.687009</td>\n",
       "      <td>2694583.0</td>\n",
       "      <td>2.316318</td>\n",
       "    </tr>\n",
       "    <tr>\n",
       "      <th>58</th>\n",
       "      <td>Haiti</td>\n",
       "      <td>1791603.0</td>\n",
       "      <td>1.963095</td>\n",
       "      <td>2327208.0</td>\n",
       "      <td>2.000515</td>\n",
       "    </tr>\n",
       "  </tbody>\n",
       "</table>\n",
       "</div>"
      ],
      "text/plain": [
       "                               Pais  Venda_volume  Part_venda_volume  \\\n",
       "88                         Paraguai    30500229.0          33.419714   \n",
       "96                           Rússia    39296199.0          43.057635   \n",
       "44                   Estados Unidos     4042624.0           4.429584   \n",
       "94                      Reino Unido     1324164.0           1.450913   \n",
       "25                            China     2517096.0           2.758033   \n",
       "89                    Países Baixos     1417200.0           1.552855   \n",
       "43                          Espanha     1993000.0           2.183770   \n",
       "1   Alemanha, República Democrática     1028563.0           1.127017   \n",
       "68                            Japão     1539635.0           1.687009   \n",
       "58                            Haiti     1791603.0           1.963095   \n",
       "\n",
       "    Venda_valor  Part_venda_valor  \n",
       "88   39520550.0         33.972657  \n",
       "96   25677644.0         22.073017  \n",
       "44   10494605.0          9.021373  \n",
       "94    4855708.0          4.174064  \n",
       "25    4776915.0          4.106332  \n",
       "89    4156362.0          3.572892  \n",
       "43    3808552.0          3.273908  \n",
       "1     2784446.0          2.393566  \n",
       "68    2694583.0          2.316318  \n",
       "58    2327208.0          2.000515  "
      ]
     },
     "metadata": {},
     "output_type": "display_data"
    },
    {
     "data": {
      "image/png": "[encoded data removed]",
      "text/plain": [
       "<Figure size 2000x600 with 1 Axes>"
      ]
     },
     "metadata": {},
     "output_type": "display_data"
    }
   ],
   "source": [
    "# agrupando a base de vinhos por pais para comparar as vendas\n",
    "base_vinhos_vendas_acumulado = base_vinhos.groupby(['Pais']).agg({'Venda_volume': 'sum', 'Venda_valor': 'sum'}).reset_index()\n",
    "\n",
    "# criando coluna de participacao do valor de vendas\n",
    "base_vinhos_vendas_acumulado['Part_venda_valor'] = (base_vinhos_vendas_acumulado['Venda_valor'] / base_vinhos_vendas_acumulado['Venda_valor'].sum()) * 100\n",
    "\n",
    "# criando coluna de participacao de volume de vendas\n",
    "base_vinhos_vendas_acumulado['Part_venda_volume'] = (base_vinhos_vendas_acumulado['Venda_volume'] / base_vinhos_vendas_acumulado['Venda_volume'].sum()) * 100\n",
    "\n",
    "# reeordenando as colunas\n",
    "base_vinhos_vendas_acumulado = base_vinhos_vendas_acumulado[['Pais', 'Venda_volume', 'Part_venda_volume', 'Venda_valor', 'Part_venda_valor']]\n",
    "\n",
    "# classificando o df pela participacao de vendas, para analisar qual pais somos muito dependentes\n",
    "base_vinhos_vendas_acumulado = base_vinhos_vendas_acumulado.sort_values(by='Part_venda_valor', ascending=0)\n",
    "\n",
    "# ------------ Exibindo o df -------------\n",
    "\n",
    "display(base_vinhos_vendas_acumulado.head(10))\n",
    "\n",
    "# ----------------------------------------\n",
    "      # plotando um gráfico de barras\n",
    "top_10_paises_part_venda_valor = base_vinhos_vendas_acumulado[:10]\n",
    "eixo_x, eixo_y = top_10_paises_part_venda_valor['Pais'], top_10_paises_part_venda_valor['Part_venda_valor']\n",
    "plt.figure(figsize=(20, 6))\n",
    "plt.bar(eixo_x, eixo_y)\n",
    "plt.xlabel('País')\n",
    "plt.ylabel('Part %')\n",
    "plt.title('Dispersão part % venda em US$ de cada país')\n",
    "plt.xticks(rotation=45, ha='right')\n",
    "\n",
    "plt.show()"
   ]
  }
 ],
 "metadata": {
  "kernelspec": {
   "display_name": "Python 3",
   "language": "python",
   "name": "python3"
  },
  "language_info": {
   "codemirror_mode": {
    "name": "ipython",
    "version": 3
   },
   "file_extension": ".py",
   "mimetype": "text/x-python",
   "name": "python",
   "nbconvert_exporter": "python",
   "pygments_lexer": "ipython3",
   "version": "3.11.7"
  }
 },
 "nbformat": 4,
 "nbformat_minor": 2
}
